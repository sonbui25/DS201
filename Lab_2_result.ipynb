{
 "cells": [
  {
   "cell_type": "code",
   "execution_count": 1,
   "id": "c1ad77b7",
   "metadata": {
    "_cell_guid": "b1076dfc-b9ad-4769-8c92-a6c4dae69d19",
    "_uuid": "8f2839f25d086af736a60e9eeb907d3b93b6e0e5",
    "execution": {
     "iopub.execute_input": "2025-10-21T16:00:07.004703Z",
     "iopub.status.busy": "2025-10-21T16:00:07.004258Z",
     "iopub.status.idle": "2025-10-21T16:00:40.188284Z",
     "shell.execute_reply": "2025-10-21T16:00:40.187439Z"
    },
    "papermill": {
     "duration": 33.187566,
     "end_time": "2025-10-21T16:00:40.189697",
     "exception": false,
     "start_time": "2025-10-21T16:00:07.002131",
     "status": "completed"
    },
    "tags": []
   },
   "outputs": [
    {
     "name": "stdout",
     "output_type": "stream",
     "text": [
      "Cloning into 'DS201'...\r\n",
      "remote: Enumerating objects: 132, done.\u001b[K\r\n",
      "remote: Counting objects: 100% (132/132), done.\u001b[K\r\n",
      "remote: Compressing objects: 100% (100/100), done.\u001b[K\r\n",
      "remote: Total 132 (delta 53), reused 103 (delta 28), pack-reused 0 (from 0)\u001b[K\r\n",
      "Receiving objects: 100% (132/132), 36.36 MiB | 31.50 MiB/s, done.\r\n",
      "Resolving deltas: 100% (53/53), done.\r\n",
      "2025-10-21 16:00:25.435710: E external/local_xla/xla/stream_executor/cuda/cuda_fft.cc:477] Unable to register cuFFT factory: Attempting to register factory for plugin cuFFT when one has already been registered\r\n",
      "WARNING: All log messages before absl::InitializeLog() is called are written to STDERR\r\n",
      "E0000 00:00:1761062425.633277      49 cuda_dnn.cc:8310] Unable to register cuDNN factory: Attempting to register factory for plugin cuDNN when one has already been registered\r\n",
      "E0000 00:00:1761062425.693653      49 cuda_blas.cc:1418] Unable to register cuBLAS factory: Attempting to register factory for plugin cuBLAS when one has already been registered\r\n",
      "Using device: cuda\r\n",
      "Traceback (most recent call last):\r\n",
      "  File \"/kaggle/working/DS201/Lab_2/main.py\", line 32, in <module>\r\n",
      "    'train': MNIST.MNISTDataset(\r\n",
      "             ^^^^^^^^^^^^^^^^^^^\r\n",
      "  File \"/kaggle/working/DS201/Lab_2/dataloader/MNIST.py\", line 14, in __init__\r\n",
      "    self.images, self.labels = self.read_images_labels(images_filepath, labels_filepath)\r\n",
      "                               ^^^^^^^^^^^^^^^^^^^^^^^^^^^^^^^^^^^^^^^^^^^^^^^^^^^^^^^^^\r\n",
      "  File \"/kaggle/working/DS201/Lab_2/dataloader/MNIST.py\", line 32, in read_images_labels\r\n",
      "    with open(labels_filepath, 'rb') as file:\r\n",
      "         ^^^^^^^^^^^^^^^^^^^^^^^^^^^\r\n",
      "FileNotFoundError: [Errno 2] No such file or directory: './kaggle/input/mnist-dataset/train-labels.idx1-ubyte'\r\n"
     ]
    }
   ],
   "source": [
    "!git clone https://github.com/sonbui25/DS201.git\n",
    "!python /kaggle/working/DS201/Lab_2/main.py"
   ]
  }
 ],
 "metadata": {
  "kaggle": {
   "accelerator": "nvidiaTeslaT4",
   "dataSources": [
    {
     "datasetId": 102285,
     "sourceId": 242592,
     "sourceType": "datasetVersion"
    },
    {
     "datasetId": 8539588,
     "sourceId": 13453298,
     "sourceType": "datasetVersion"
    }
   ],
   "dockerImageVersionId": 31154,
   "isGpuEnabled": true,
   "isInternetEnabled": true,
   "language": "python",
   "sourceType": "notebook"
  },
  "kernelspec": {
   "display_name": "Python 3",
   "language": "python",
   "name": "python3"
  },
  "language_info": {
   "codemirror_mode": {
    "name": "ipython",
    "version": 3
   },
   "file_extension": ".py",
   "mimetype": "text/x-python",
   "name": "python",
   "nbconvert_exporter": "python",
   "pygments_lexer": "ipython3",
   "version": "3.11.13"
  },
  "papermill": {
   "default_parameters": {},
   "duration": 36.871162,
   "end_time": "2025-10-21T16:00:40.409208",
   "environment_variables": {},
   "exception": null,
   "input_path": "__notebook__.ipynb",
   "output_path": "__notebook__.ipynb",
   "parameters": {},
   "start_time": "2025-10-21T16:00:03.538046",
   "version": "2.6.0"
  }
 },
 "nbformat": 4,
 "nbformat_minor": 5
}
