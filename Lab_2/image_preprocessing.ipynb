{
 "cells": [
  {
   "cell_type": "code",
   "execution_count": 1,
   "id": "649ba41a",
   "metadata": {},
   "outputs": [],
   "source": [
    "import os\n",
    "import cv2 as cv\n",
    "import numpy as np\n",
    "import matplotlib.pyplot as plt\n",
    "from tqdm import tqdm\n",
    "from rembg import remove\n"
   ]
  },
  {
   "cell_type": "code",
   "execution_count": 2,
   "id": "5dc4feca",
   "metadata": {},
   "outputs": [],
   "source": [
    "train_dir = r'E:\\DS201.Q11\\DS201\\Lab_2\\data\\VinaFood21/train'\n",
    "preprocessed_dir = r'E:\\DS201.Q11\\DS201\\Lab_2\\data\\VinaFood21_Preprocessed/train'\n",
    "os.makedirs(preprocessed_dir, exist_ok=True)\n",
    "def preprocess_image(img, alpha_fore=10, alpha_back=3, erode_size=5, alpha_matting=True):\n",
    "    \"\"\"Tiền xử lý ảnh: Resize, Sharpen, CLAHE, Remove Background, Blur background\"\"\"\n",
    "    \n",
    "    # Resize\n",
    "    img = cv.resize(img, (224, 224))\n",
    "    \n",
    "    # Sharpen ảnh (Unsharp Masking)\n",
    "    blur_for_sharp = cv.GaussianBlur(img, (5,5), 0)\n",
    "    sharp_img = cv.addWeighted(img, 1.5, blur_for_sharp, -0.5, 0)\n",
    "\n",
    "    # CLAHE\n",
    "    lab = cv.cvtColor(sharp_img, cv.COLOR_RGB2LAB)\n",
    "    l, a, b = cv.split(lab)\n",
    "    clahe = cv.createCLAHE(clipLimit=0.5, tileGridSize=(8,8))\n",
    "    l = clahe.apply(l)\n",
    "    lab = cv.merge((l, a, b))\n",
    "    enhanced_img = cv.cvtColor(lab, cv.COLOR_LAB2RGB)\n",
    "\n",
    "    # Remove background\n",
    "    rgba_img = remove(\n",
    "        enhanced_img,\n",
    "        alpha_matting=alpha_matting,\n",
    "        alpha_matting_foreground_threshold=alpha_fore,\n",
    "        alpha_matting_background_threshold=alpha_back,\n",
    "        alpha_matting_erode_size=erode_size\n",
    "    )\n",
    "\n",
    "    if rgba_img.shape[-1] == 4:\n",
    "        rgb_img = rgba_img[..., :3]\n",
    "        alpha = rgba_img[..., 3:] / 255.0\n",
    "        \n",
    "        # Blur nền\n",
    "        blurred_bg = cv.GaussianBlur(rgb_img, (15,15), 0)\n",
    "\n",
    "        # Ghép foreground + blurred background\n",
    "        final_img = (rgb_img * alpha + blurred_bg * (1 - alpha)).astype(np.uint8)\n",
    "    else:\n",
    "        final_img = rgba_img\n",
    "    \n",
    "    return final_img\n",
    "\n",
    "\n",
    "def process_folder(data_folder, save_folder, show_images=False):\n",
    "    os.makedirs(save_folder, exist_ok=True)\n",
    "    \n",
    "    for folder_name in sorted(os.listdir(data_folder)):\n",
    "        folder_path = os.path.join(data_folder, folder_name)\n",
    "        if not os.path.isdir(folder_path):\n",
    "            continue\n",
    "        \n",
    "        target_folder = os.path.join(save_folder, folder_name)\n",
    "        os.makedirs(target_folder, exist_ok=True)\n",
    "        \n",
    "        for filename in tqdm(sorted(os.listdir(folder_path)), desc=f\"Processing {folder_name}\"):\n",
    "            if not filename.lower().endswith(('.jpg', '.png')):\n",
    "                continue\n",
    "            \n",
    "            img_path = os.path.join(folder_path, filename)\n",
    "            save_path = os.path.join(target_folder, os.path.splitext(filename)[0] + '.jpg')\n",
    "            \n",
    "            img = cv.imread(img_path)\n",
    "            rgb_img = cv.cvtColor(img, cv.COLOR_BGR2RGB)\n",
    "            \n",
    "            processed_img = preprocess_image(rgb_img)\n",
    "            \n",
    "            plt.imsave(save_path, processed_img)\n",
    "            \n",
    "            if show_images:\n",
    "                plt.figure(figsize=(12,5))\n",
    "                plt.subplot(1,2,1)\n",
    "                plt.imshow(rgb_img)\n",
    "                plt.title(\"Original\")\n",
    "                plt.axis('off')\n",
    "                \n",
    "                plt.subplot(1,2,2)\n",
    "                plt.imshow(processed_img)\n",
    "                plt.title(\"Foreground sharp + Background blurred\")\n",
    "                plt.axis('off')\n",
    "                \n",
    "                plt.tight_layout()\n",
    "                plt.show()\n"
   ]
  },
  {
   "cell_type": "code",
   "execution_count": null,
   "id": "6f7fbd02",
   "metadata": {},
   "outputs": [],
   "source": [
    "\n",
    "# Chạy tiền xử lý\n",
    "process_folder(train_dir, preprocessed_dir, show_images=False)\n"
   ]
  },
  {
   "cell_type": "code",
   "execution_count": 3,
   "id": "e81234ac",
   "metadata": {},
   "outputs": [
    {
     "name": "stderr",
     "output_type": "stream",
     "text": [
      "Processing banh-can:  95%|█████████▌| 230/241 [04:43<00:12,  1.17s/it]"
     ]
    },
    {
     "name": "stdout",
     "output_type": "stream",
     "text": [
      "PERFORMANCE WARNING:\n",
      "Thresholded incomplete Cholesky decomposition failed due to insufficient positive-definiteness of matrix A with parameters:\n",
      "    discard_threshold = 1.000000e-04\n",
      "    shift = 0.000000e+00\n",
      "Try decreasing discard_threshold or start with a larger shift\n",
      "\n",
      "PERFORMANCE WARNING:\n",
      "Thresholded incomplete Cholesky decomposition failed due to insufficient positive-definiteness of matrix A with parameters:\n",
      "    discard_threshold = 1.000000e-04\n",
      "    shift = 1.000000e-04\n",
      "Try decreasing discard_threshold or start with a larger shift\n",
      "\n",
      "PERFORMANCE WARNING:\n",
      "Thresholded incomplete Cholesky decomposition failed due to insufficient positive-definiteness of matrix A with parameters:\n",
      "    discard_threshold = 1.000000e-04\n",
      "    shift = 1.000000e-03\n",
      "Try decreasing discard_threshold or start with a larger shift\n",
      "\n",
      "PERFORMANCE WARNING:\n",
      "Thresholded incomplete Cholesky decomposition failed due to insufficient positive-definiteness of matrix A with parameters:\n",
      "    discard_threshold = 1.000000e-04\n",
      "    shift = 1.000000e-02\n",
      "Try decreasing discard_threshold or start with a larger shift\n",
      "\n"
     ]
    },
    {
     "name": "stderr",
     "output_type": "stream",
     "text": [
      "Processing banh-can: 100%|██████████| 241/241 [04:56<00:00,  1.23s/it]\n",
      "Processing banh-hoi:  58%|█████▊    | 350/607 [07:06<04:57,  1.16s/it]"
     ]
    },
    {
     "name": "stdout",
     "output_type": "stream",
     "text": [
      "PERFORMANCE WARNING:\n",
      "Thresholded incomplete Cholesky decomposition failed due to insufficient positive-definiteness of matrix A with parameters:\n",
      "    discard_threshold = 1.000000e-04\n",
      "    shift = 0.000000e+00\n",
      "Try decreasing discard_threshold or start with a larger shift\n",
      "\n"
     ]
    },
    {
     "name": "stderr",
     "output_type": "stream",
     "text": [
      "Processing banh-hoi:  65%|██████▌   | 397/607 [08:04<04:11,  1.20s/it]"
     ]
    },
    {
     "name": "stdout",
     "output_type": "stream",
     "text": [
      "PERFORMANCE WARNING:\n",
      "Thresholded incomplete Cholesky decomposition failed due to insufficient positive-definiteness of matrix A with parameters:\n",
      "    discard_threshold = 1.000000e-04\n",
      "    shift = 0.000000e+00\n",
      "Try decreasing discard_threshold or start with a larger shift\n",
      "\n",
      "PERFORMANCE WARNING:\n",
      "Thresholded incomplete Cholesky decomposition failed due to insufficient positive-definiteness of matrix A with parameters:\n",
      "    discard_threshold = 1.000000e-04\n",
      "    shift = 1.000000e-04\n",
      "Try decreasing discard_threshold or start with a larger shift\n",
      "\n"
     ]
    },
    {
     "name": "stderr",
     "output_type": "stream",
     "text": [
      "Processing banh-hoi:  83%|████████▎ | 505/607 [10:15<02:13,  1.31s/it]"
     ]
    },
    {
     "name": "stdout",
     "output_type": "stream",
     "text": [
      "PERFORMANCE WARNING:\n",
      "Thresholded incomplete Cholesky decomposition failed due to insufficient positive-definiteness of matrix A with parameters:\n",
      "    discard_threshold = 1.000000e-04\n",
      "    shift = 0.000000e+00\n",
      "Try decreasing discard_threshold or start with a larger shift\n",
      "\n",
      "PERFORMANCE WARNING:\n",
      "Thresholded incomplete Cholesky decomposition failed due to insufficient positive-definiteness of matrix A with parameters:\n",
      "    discard_threshold = 1.000000e-04\n",
      "    shift = 1.000000e-04\n",
      "Try decreasing discard_threshold or start with a larger shift\n",
      "\n",
      "PERFORMANCE WARNING:\n",
      "Thresholded incomplete Cholesky decomposition failed due to insufficient positive-definiteness of matrix A with parameters:\n",
      "    discard_threshold = 1.000000e-04\n",
      "    shift = 1.000000e-03\n",
      "Try decreasing discard_threshold or start with a larger shift\n",
      "\n",
      "PERFORMANCE WARNING:\n",
      "Thresholded incomplete Cholesky decomposition failed due to insufficient positive-definiteness of matrix A with parameters:\n",
      "    discard_threshold = 1.000000e-04\n",
      "    shift = 1.000000e-02\n",
      "Try decreasing discard_threshold or start with a larger shift\n",
      "\n"
     ]
    },
    {
     "name": "stderr",
     "output_type": "stream",
     "text": [
      "Processing banh-hoi:  84%|████████▍ | 509/607 [10:20<01:58,  1.21s/it]"
     ]
    },
    {
     "name": "stdout",
     "output_type": "stream",
     "text": [
      "PERFORMANCE WARNING:\n",
      "Thresholded incomplete Cholesky decomposition failed due to insufficient positive-definiteness of matrix A with parameters:\n",
      "    discard_threshold = 1.000000e-04\n",
      "    shift = 0.000000e+00\n",
      "Try decreasing discard_threshold or start with a larger shift\n",
      "\n",
      "PERFORMANCE WARNING:\n",
      "Thresholded incomplete Cholesky decomposition failed due to insufficient positive-definiteness of matrix A with parameters:\n",
      "    discard_threshold = 1.000000e-04\n",
      "    shift = 1.000000e-04\n",
      "Try decreasing discard_threshold or start with a larger shift\n",
      "\n",
      "PERFORMANCE WARNING:\n",
      "Thresholded incomplete Cholesky decomposition failed due to insufficient positive-definiteness of matrix A with parameters:\n",
      "    discard_threshold = 1.000000e-04\n",
      "    shift = 1.000000e-03\n",
      "Try decreasing discard_threshold or start with a larger shift\n",
      "\n",
      "PERFORMANCE WARNING:\n",
      "Thresholded incomplete Cholesky decomposition failed due to insufficient positive-definiteness of matrix A with parameters:\n",
      "    discard_threshold = 1.000000e-04\n",
      "    shift = 1.000000e-02\n",
      "Try decreasing discard_threshold or start with a larger shift\n",
      "\n"
     ]
    },
    {
     "name": "stderr",
     "output_type": "stream",
     "text": [
      "Processing banh-hoi:  94%|█████████▎| 568/607 [11:36<00:46,  1.19s/it]"
     ]
    },
    {
     "name": "stdout",
     "output_type": "stream",
     "text": [
      "PERFORMANCE WARNING:\n",
      "Thresholded incomplete Cholesky decomposition failed due to insufficient positive-definiteness of matrix A with parameters:\n",
      "    discard_threshold = 1.000000e-04\n",
      "    shift = 0.000000e+00\n",
      "Try decreasing discard_threshold or start with a larger shift\n",
      "\n",
      "PERFORMANCE WARNING:\n",
      "Thresholded incomplete Cholesky decomposition failed due to insufficient positive-definiteness of matrix A with parameters:\n",
      "    discard_threshold = 1.000000e-04\n",
      "    shift = 1.000000e-04\n",
      "Try decreasing discard_threshold or start with a larger shift\n",
      "\n"
     ]
    },
    {
     "name": "stderr",
     "output_type": "stream",
     "text": [
      "Processing banh-hoi:  99%|█████████▉| 603/607 [12:19<00:04,  1.12s/it]"
     ]
    },
    {
     "name": "stdout",
     "output_type": "stream",
     "text": [
      "PERFORMANCE WARNING:\n",
      "Thresholded incomplete Cholesky decomposition failed due to insufficient positive-definiteness of matrix A with parameters:\n",
      "    discard_threshold = 1.000000e-04\n",
      "    shift = 0.000000e+00\n",
      "Try decreasing discard_threshold or start with a larger shift\n",
      "\n",
      "PERFORMANCE WARNING:\n",
      "Thresholded incomplete Cholesky decomposition failed due to insufficient positive-definiteness of matrix A with parameters:\n",
      "    discard_threshold = 1.000000e-04\n",
      "    shift = 1.000000e-04\n",
      "Try decreasing discard_threshold or start with a larger shift\n",
      "\n",
      "PERFORMANCE WARNING:\n",
      "Thresholded incomplete Cholesky decomposition failed due to insufficient positive-definiteness of matrix A with parameters:\n",
      "    discard_threshold = 1.000000e-04\n",
      "    shift = 1.000000e-03\n",
      "Try decreasing discard_threshold or start with a larger shift\n",
      "\n"
     ]
    },
    {
     "name": "stderr",
     "output_type": "stream",
     "text": [
      "Processing banh-hoi: 100%|██████████| 607/607 [12:24<00:00,  1.23s/it]\n",
      "Processing banh-mi-chao:   3%|▎         | 9/289 [00:10<05:19,  1.14s/it]"
     ]
    },
    {
     "name": "stdout",
     "output_type": "stream",
     "text": [
      "PERFORMANCE WARNING:\n",
      "Thresholded incomplete Cholesky decomposition failed due to insufficient positive-definiteness of matrix A with parameters:\n",
      "    discard_threshold = 1.000000e-04\n",
      "    shift = 0.000000e+00\n",
      "Try decreasing discard_threshold or start with a larger shift\n",
      "\n",
      "PERFORMANCE WARNING:\n",
      "Thresholded incomplete Cholesky decomposition failed due to insufficient positive-definiteness of matrix A with parameters:\n",
      "    discard_threshold = 1.000000e-04\n",
      "    shift = 1.000000e-04\n",
      "Try decreasing discard_threshold or start with a larger shift\n",
      "\n",
      "PERFORMANCE WARNING:\n",
      "Thresholded incomplete Cholesky decomposition failed due to insufficient positive-definiteness of matrix A with parameters:\n",
      "    discard_threshold = 1.000000e-04\n",
      "    shift = 1.000000e-03\n",
      "Try decreasing discard_threshold or start with a larger shift\n",
      "\n"
     ]
    },
    {
     "name": "stderr",
     "output_type": "stream",
     "text": [
      "Processing banh-mi-chao: 100%|██████████| 289/289 [05:49<00:00,  1.21s/it]\n",
      "Processing banh-tet: 100%|██████████| 364/364 [07:30<00:00,  1.24s/it]\n",
      "Processing banh-trang-tron:  72%|███████▏  | 223/309 [04:43<01:54,  1.33s/it]"
     ]
    },
    {
     "name": "stdout",
     "output_type": "stream",
     "text": [
      "PERFORMANCE WARNING:\n",
      "Thresholded incomplete Cholesky decomposition failed due to insufficient positive-definiteness of matrix A with parameters:\n",
      "    discard_threshold = 1.000000e-04\n",
      "    shift = 0.000000e+00\n",
      "Try decreasing discard_threshold or start with a larger shift\n",
      "\n",
      "PERFORMANCE WARNING:\n",
      "Thresholded incomplete Cholesky decomposition failed due to insufficient positive-definiteness of matrix A with parameters:\n",
      "    discard_threshold = 1.000000e-04\n",
      "    shift = 1.000000e-04\n",
      "Try decreasing discard_threshold or start with a larger shift\n",
      "\n",
      "PERFORMANCE WARNING:\n",
      "Thresholded incomplete Cholesky decomposition failed due to insufficient positive-definiteness of matrix A with parameters:\n",
      "    discard_threshold = 1.000000e-04\n",
      "    shift = 1.000000e-03\n",
      "Try decreasing discard_threshold or start with a larger shift\n",
      "\n"
     ]
    },
    {
     "name": "stderr",
     "output_type": "stream",
     "text": [
      "Processing banh-trang-tron:  94%|█████████▍| 292/309 [06:12<00:21,  1.27s/it]"
     ]
    },
    {
     "name": "stdout",
     "output_type": "stream",
     "text": [
      "PERFORMANCE WARNING:\n",
      "Thresholded incomplete Cholesky decomposition failed due to insufficient positive-definiteness of matrix A with parameters:\n",
      "    discard_threshold = 1.000000e-04\n",
      "    shift = 0.000000e+00\n",
      "Try decreasing discard_threshold or start with a larger shift\n",
      "\n",
      "PERFORMANCE WARNING:\n",
      "Thresholded incomplete Cholesky decomposition failed due to insufficient positive-definiteness of matrix A with parameters:\n",
      "    discard_threshold = 1.000000e-04\n",
      "    shift = 1.000000e-04\n",
      "Try decreasing discard_threshold or start with a larger shift\n",
      "\n",
      "PERFORMANCE WARNING:\n",
      "Thresholded incomplete Cholesky decomposition failed due to insufficient positive-definiteness of matrix A with parameters:\n",
      "    discard_threshold = 1.000000e-04\n",
      "    shift = 1.000000e-03\n",
      "Try decreasing discard_threshold or start with a larger shift\n",
      "\n"
     ]
    },
    {
     "name": "stderr",
     "output_type": "stream",
     "text": [
      "Processing banh-trang-tron: 100%|██████████| 309/309 [06:33<00:00,  1.27s/it]\n",
      "Processing banh-u: 100%|██████████| 176/176 [03:39<00:00,  1.25s/it]\n",
      "Processing banh-uot:   6%|▌         | 31/560 [00:40<10:49,  1.23s/it]"
     ]
    },
    {
     "name": "stdout",
     "output_type": "stream",
     "text": [
      "PERFORMANCE WARNING:\n",
      "Thresholded incomplete Cholesky decomposition failed due to insufficient positive-definiteness of matrix A with parameters:\n",
      "    discard_threshold = 1.000000e-04\n",
      "    shift = 0.000000e+00\n",
      "Try decreasing discard_threshold or start with a larger shift\n",
      "\n"
     ]
    },
    {
     "name": "stderr",
     "output_type": "stream",
     "text": [
      "Processing banh-uot:  10%|▉         | 54/560 [01:09<11:14,  1.33s/it]"
     ]
    },
    {
     "name": "stdout",
     "output_type": "stream",
     "text": [
      "PERFORMANCE WARNING:\n",
      "Thresholded incomplete Cholesky decomposition failed due to insufficient positive-definiteness of matrix A with parameters:\n",
      "    discard_threshold = 1.000000e-04\n",
      "    shift = 0.000000e+00\n",
      "Try decreasing discard_threshold or start with a larger shift\n",
      "\n",
      "PERFORMANCE WARNING:\n",
      "Thresholded incomplete Cholesky decomposition failed due to insufficient positive-definiteness of matrix A with parameters:\n",
      "    discard_threshold = 1.000000e-04\n",
      "    shift = 1.000000e-04\n",
      "Try decreasing discard_threshold or start with a larger shift\n",
      "\n"
     ]
    },
    {
     "name": "stderr",
     "output_type": "stream",
     "text": [
      "Processing banh-uot:  46%|████▋     | 260/560 [05:23<06:21,  1.27s/it]"
     ]
    },
    {
     "name": "stdout",
     "output_type": "stream",
     "text": [
      "PERFORMANCE WARNING:\n",
      "Thresholded incomplete Cholesky decomposition failed due to insufficient positive-definiteness of matrix A with parameters:\n",
      "    discard_threshold = 1.000000e-04\n",
      "    shift = 0.000000e+00\n",
      "Try decreasing discard_threshold or start with a larger shift\n",
      "\n",
      "PERFORMANCE WARNING:\n",
      "Thresholded incomplete Cholesky decomposition failed due to insufficient positive-definiteness of matrix A with parameters:\n",
      "    discard_threshold = 1.000000e-04\n",
      "    shift = 1.000000e-04\n",
      "Try decreasing discard_threshold or start with a larger shift\n",
      "\n",
      "PERFORMANCE WARNING:\n",
      "Thresholded incomplete Cholesky decomposition failed due to insufficient positive-definiteness of matrix A with parameters:\n",
      "    discard_threshold = 1.000000e-04\n",
      "    shift = 1.000000e-03\n",
      "Try decreasing discard_threshold or start with a larger shift\n",
      "\n"
     ]
    },
    {
     "name": "stderr",
     "output_type": "stream",
     "text": [
      "Processing banh-uot:  79%|███████▉  | 445/560 [09:18<02:14,  1.17s/it]"
     ]
    },
    {
     "name": "stdout",
     "output_type": "stream",
     "text": [
      "PERFORMANCE WARNING:\n",
      "Thresholded incomplete Cholesky decomposition failed due to insufficient positive-definiteness of matrix A with parameters:\n",
      "    discard_threshold = 1.000000e-04\n",
      "    shift = 0.000000e+00\n",
      "Try decreasing discard_threshold or start with a larger shift\n",
      "\n",
      "PERFORMANCE WARNING:\n",
      "Thresholded incomplete Cholesky decomposition failed due to insufficient positive-definiteness of matrix A with parameters:\n",
      "    discard_threshold = 1.000000e-04\n",
      "    shift = 1.000000e-04\n",
      "Try decreasing discard_threshold or start with a larger shift\n",
      "\n",
      "PERFORMANCE WARNING:\n",
      "Thresholded incomplete Cholesky decomposition failed due to insufficient positive-definiteness of matrix A with parameters:\n",
      "    discard_threshold = 1.000000e-04\n",
      "    shift = 1.000000e-03\n",
      "Try decreasing discard_threshold or start with a larger shift\n",
      "\n"
     ]
    },
    {
     "name": "stderr",
     "output_type": "stream",
     "text": [
      "Processing banh-uot:  85%|████████▌ | 478/560 [09:58<01:56,  1.42s/it]"
     ]
    },
    {
     "name": "stdout",
     "output_type": "stream",
     "text": [
      "PERFORMANCE WARNING:\n",
      "Thresholded incomplete Cholesky decomposition failed due to insufficient positive-definiteness of matrix A with parameters:\n",
      "    discard_threshold = 1.000000e-04\n",
      "    shift = 0.000000e+00\n",
      "Try decreasing discard_threshold or start with a larger shift\n",
      "\n",
      "PERFORMANCE WARNING:\n",
      "Thresholded incomplete Cholesky decomposition failed due to insufficient positive-definiteness of matrix A with parameters:\n",
      "    discard_threshold = 1.000000e-04\n",
      "    shift = 1.000000e-04\n",
      "Try decreasing discard_threshold or start with a larger shift\n",
      "\n",
      "PERFORMANCE WARNING:\n",
      "Thresholded incomplete Cholesky decomposition failed due to insufficient positive-definiteness of matrix A with parameters:\n",
      "    discard_threshold = 1.000000e-04\n",
      "    shift = 1.000000e-03\n",
      "Try decreasing discard_threshold or start with a larger shift\n",
      "\n"
     ]
    },
    {
     "name": "stderr",
     "output_type": "stream",
     "text": [
      "Processing banh-uot:  93%|█████████▎| 522/560 [10:53<00:45,  1.19s/it]"
     ]
    },
    {
     "name": "stdout",
     "output_type": "stream",
     "text": [
      "PERFORMANCE WARNING:\n",
      "Thresholded incomplete Cholesky decomposition failed due to insufficient positive-definiteness of matrix A with parameters:\n",
      "    discard_threshold = 1.000000e-04\n",
      "    shift = 0.000000e+00\n",
      "Try decreasing discard_threshold or start with a larger shift\n",
      "\n",
      "PERFORMANCE WARNING:\n",
      "Thresholded incomplete Cholesky decomposition failed due to insufficient positive-definiteness of matrix A with parameters:\n",
      "    discard_threshold = 1.000000e-04\n",
      "    shift = 1.000000e-04\n",
      "Try decreasing discard_threshold or start with a larger shift\n",
      "\n",
      "PERFORMANCE WARNING:\n",
      "Thresholded incomplete Cholesky decomposition failed due to insufficient positive-definiteness of matrix A with parameters:\n",
      "    discard_threshold = 1.000000e-04\n",
      "    shift = 1.000000e-03\n",
      "Try decreasing discard_threshold or start with a larger shift\n",
      "\n",
      "PERFORMANCE WARNING:\n",
      "Thresholded incomplete Cholesky decomposition failed due to insufficient positive-definiteness of matrix A with parameters:\n",
      "    discard_threshold = 1.000000e-04\n",
      "    shift = 1.000000e-02\n",
      "Try decreasing discard_threshold or start with a larger shift\n",
      "\n"
     ]
    },
    {
     "name": "stderr",
     "output_type": "stream",
     "text": [
      "Processing banh-uot:  95%|█████████▌| 532/560 [11:05<00:34,  1.22s/it]"
     ]
    },
    {
     "name": "stdout",
     "output_type": "stream",
     "text": [
      "PERFORMANCE WARNING:\n",
      "Thresholded incomplete Cholesky decomposition failed due to insufficient positive-definiteness of matrix A with parameters:\n",
      "    discard_threshold = 1.000000e-04\n",
      "    shift = 0.000000e+00\n",
      "Try decreasing discard_threshold or start with a larger shift\n",
      "\n",
      "PERFORMANCE WARNING:\n",
      "Thresholded incomplete Cholesky decomposition failed due to insufficient positive-definiteness of matrix A with parameters:\n",
      "    discard_threshold = 1.000000e-04\n",
      "    shift = 1.000000e-04\n",
      "Try decreasing discard_threshold or start with a larger shift\n",
      "\n",
      "PERFORMANCE WARNING:\n",
      "Thresholded incomplete Cholesky decomposition failed due to insufficient positive-definiteness of matrix A with parameters:\n",
      "    discard_threshold = 1.000000e-04\n",
      "    shift = 1.000000e-03\n",
      "Try decreasing discard_threshold or start with a larger shift\n",
      "\n",
      "PERFORMANCE WARNING:\n",
      "Thresholded incomplete Cholesky decomposition failed due to insufficient positive-definiteness of matrix A with parameters:\n",
      "    discard_threshold = 1.000000e-04\n",
      "    shift = 1.000000e-02\n",
      "Try decreasing discard_threshold or start with a larger shift\n",
      "\n"
     ]
    },
    {
     "name": "stderr",
     "output_type": "stream",
     "text": [
      "Processing banh-uot: 100%|██████████| 560/560 [11:39<00:00,  1.25s/it]\n",
      "Processing bap-nuong:  49%|████▉     | 70/143 [01:25<01:27,  1.20s/it]"
     ]
    },
    {
     "name": "stdout",
     "output_type": "stream",
     "text": [
      "PERFORMANCE WARNING:\n",
      "Thresholded incomplete Cholesky decomposition failed due to insufficient positive-definiteness of matrix A with parameters:\n",
      "    discard_threshold = 1.000000e-04\n",
      "    shift = 0.000000e+00\n",
      "Try decreasing discard_threshold or start with a larger shift\n",
      "\n",
      "PERFORMANCE WARNING:\n",
      "Thresholded incomplete Cholesky decomposition failed due to insufficient positive-definiteness of matrix A with parameters:\n",
      "    discard_threshold = 1.000000e-04\n",
      "    shift = 1.000000e-04\n",
      "Try decreasing discard_threshold or start with a larger shift\n",
      "\n"
     ]
    },
    {
     "name": "stderr",
     "output_type": "stream",
     "text": [
      "Processing bap-nuong:  92%|█████████▏| 132/143 [02:43<00:15,  1.36s/it]"
     ]
    },
    {
     "name": "stdout",
     "output_type": "stream",
     "text": [
      "PERFORMANCE WARNING:\n",
      "Thresholded incomplete Cholesky decomposition failed due to insufficient positive-definiteness of matrix A with parameters:\n",
      "    discard_threshold = 1.000000e-04\n",
      "    shift = 0.000000e+00\n",
      "Try decreasing discard_threshold or start with a larger shift\n",
      "\n",
      "PERFORMANCE WARNING:\n",
      "Thresholded incomplete Cholesky decomposition failed due to insufficient positive-definiteness of matrix A with parameters:\n",
      "    discard_threshold = 1.000000e-04\n",
      "    shift = 1.000000e-04\n",
      "Try decreasing discard_threshold or start with a larger shift\n",
      "\n",
      "PERFORMANCE WARNING:\n",
      "Thresholded incomplete Cholesky decomposition failed due to insufficient positive-definiteness of matrix A with parameters:\n",
      "    discard_threshold = 1.000000e-04\n",
      "    shift = 1.000000e-03\n",
      "Try decreasing discard_threshold or start with a larger shift\n",
      "\n"
     ]
    },
    {
     "name": "stderr",
     "output_type": "stream",
     "text": [
      "Processing bap-nuong: 100%|██████████| 143/143 [02:57<00:00,  1.24s/it]\n",
      "Processing bo-kho:  41%|████      | 137/338 [02:53<03:55,  1.17s/it]"
     ]
    },
    {
     "name": "stdout",
     "output_type": "stream",
     "text": [
      "PERFORMANCE WARNING:\n",
      "Thresholded incomplete Cholesky decomposition failed due to insufficient positive-definiteness of matrix A with parameters:\n",
      "    discard_threshold = 1.000000e-04\n",
      "    shift = 0.000000e+00\n",
      "Try decreasing discard_threshold or start with a larger shift\n",
      "\n",
      "PERFORMANCE WARNING:\n",
      "Thresholded incomplete Cholesky decomposition failed due to insufficient positive-definiteness of matrix A with parameters:\n",
      "    discard_threshold = 1.000000e-04\n",
      "    shift = 1.000000e-04\n",
      "Try decreasing discard_threshold or start with a larger shift\n",
      "\n",
      "PERFORMANCE WARNING:\n",
      "Thresholded incomplete Cholesky decomposition failed due to insufficient positive-definiteness of matrix A with parameters:\n",
      "    discard_threshold = 1.000000e-04\n",
      "    shift = 1.000000e-03\n",
      "Try decreasing discard_threshold or start with a larger shift\n",
      "\n"
     ]
    },
    {
     "name": "stderr",
     "output_type": "stream",
     "text": [
      "Processing bo-kho:  88%|████████▊ | 297/338 [06:17<00:51,  1.25s/it]"
     ]
    },
    {
     "name": "stdout",
     "output_type": "stream",
     "text": [
      "PERFORMANCE WARNING:\n",
      "Thresholded incomplete Cholesky decomposition failed due to insufficient positive-definiteness of matrix A with parameters:\n",
      "    discard_threshold = 1.000000e-04\n",
      "    shift = 0.000000e+00\n",
      "Try decreasing discard_threshold or start with a larger shift\n",
      "\n",
      "PERFORMANCE WARNING:\n",
      "Thresholded incomplete Cholesky decomposition failed due to insufficient positive-definiteness of matrix A with parameters:\n",
      "    discard_threshold = 1.000000e-04\n",
      "    shift = 1.000000e-04\n",
      "Try decreasing discard_threshold or start with a larger shift\n",
      "\n",
      "PERFORMANCE WARNING:\n",
      "Thresholded incomplete Cholesky decomposition failed due to insufficient positive-definiteness of matrix A with parameters:\n",
      "    discard_threshold = 1.000000e-04\n",
      "    shift = 1.000000e-03\n",
      "Try decreasing discard_threshold or start with a larger shift\n",
      "\n",
      "PERFORMANCE WARNING:\n",
      "Thresholded incomplete Cholesky decomposition failed due to insufficient positive-definiteness of matrix A with parameters:\n",
      "    discard_threshold = 1.000000e-04\n",
      "    shift = 1.000000e-02\n",
      "Try decreasing discard_threshold or start with a larger shift\n",
      "\n"
     ]
    },
    {
     "name": "stderr",
     "output_type": "stream",
     "text": [
      "Processing bo-kho:  94%|█████████▍| 317/338 [06:44<00:26,  1.27s/it]"
     ]
    },
    {
     "name": "stdout",
     "output_type": "stream",
     "text": [
      "PERFORMANCE WARNING:\n",
      "Thresholded incomplete Cholesky decomposition failed due to insufficient positive-definiteness of matrix A with parameters:\n",
      "    discard_threshold = 1.000000e-04\n",
      "    shift = 0.000000e+00\n",
      "Try decreasing discard_threshold or start with a larger shift\n",
      "\n",
      "PERFORMANCE WARNING:\n",
      "Thresholded incomplete Cholesky decomposition failed due to insufficient positive-definiteness of matrix A with parameters:\n",
      "    discard_threshold = 1.000000e-04\n",
      "    shift = 1.000000e-04\n",
      "Try decreasing discard_threshold or start with a larger shift\n",
      "\n",
      "PERFORMANCE WARNING:\n",
      "Thresholded incomplete Cholesky decomposition failed due to insufficient positive-definiteness of matrix A with parameters:\n",
      "    discard_threshold = 1.000000e-04\n",
      "    shift = 1.000000e-03\n",
      "Try decreasing discard_threshold or start with a larger shift\n",
      "\n"
     ]
    },
    {
     "name": "stderr",
     "output_type": "stream",
     "text": [
      "Processing bo-kho:  96%|█████████▌| 324/338 [06:52<00:17,  1.24s/it]"
     ]
    },
    {
     "name": "stdout",
     "output_type": "stream",
     "text": [
      "PERFORMANCE WARNING:\n",
      "Thresholded incomplete Cholesky decomposition failed due to insufficient positive-definiteness of matrix A with parameters:\n",
      "    discard_threshold = 1.000000e-04\n",
      "    shift = 0.000000e+00\n",
      "Try decreasing discard_threshold or start with a larger shift\n",
      "\n",
      "PERFORMANCE WARNING:\n",
      "Thresholded incomplete Cholesky decomposition failed due to insufficient positive-definiteness of matrix A with parameters:\n",
      "    discard_threshold = 1.000000e-04\n",
      "    shift = 1.000000e-04\n",
      "Try decreasing discard_threshold or start with a larger shift\n",
      "\n"
     ]
    },
    {
     "name": "stderr",
     "output_type": "stream",
     "text": [
      "Processing bo-kho: 100%|██████████| 338/338 [07:10<00:00,  1.27s/it]\n",
      "Processing bo-la-lot:  16%|█▌        | 71/458 [01:32<08:00,  1.24s/it]"
     ]
    },
    {
     "name": "stdout",
     "output_type": "stream",
     "text": [
      "PERFORMANCE WARNING:\n",
      "Thresholded incomplete Cholesky decomposition failed due to insufficient positive-definiteness of matrix A with parameters:\n",
      "    discard_threshold = 1.000000e-04\n",
      "    shift = 0.000000e+00\n",
      "Try decreasing discard_threshold or start with a larger shift\n",
      "\n"
     ]
    },
    {
     "name": "stderr",
     "output_type": "stream",
     "text": [
      "Processing bo-la-lot:  29%|██▉       | 135/458 [02:53<06:30,  1.21s/it]"
     ]
    },
    {
     "name": "stdout",
     "output_type": "stream",
     "text": [
      "PERFORMANCE WARNING:\n",
      "Thresholded incomplete Cholesky decomposition failed due to insufficient positive-definiteness of matrix A with parameters:\n",
      "    discard_threshold = 1.000000e-04\n",
      "    shift = 0.000000e+00\n",
      "Try decreasing discard_threshold or start with a larger shift\n",
      "\n"
     ]
    },
    {
     "name": "stderr",
     "output_type": "stream",
     "text": [
      "Processing bo-la-lot:  94%|█████████▍| 432/458 [08:57<00:33,  1.28s/it]"
     ]
    },
    {
     "name": "stdout",
     "output_type": "stream",
     "text": [
      "PERFORMANCE WARNING:\n",
      "Thresholded incomplete Cholesky decomposition failed due to insufficient positive-definiteness of matrix A with parameters:\n",
      "    discard_threshold = 1.000000e-04\n",
      "    shift = 0.000000e+00\n",
      "Try decreasing discard_threshold or start with a larger shift\n",
      "\n",
      "PERFORMANCE WARNING:\n",
      "Thresholded incomplete Cholesky decomposition failed due to insufficient positive-definiteness of matrix A with parameters:\n",
      "    discard_threshold = 1.000000e-04\n",
      "    shift = 1.000000e-04\n",
      "Try decreasing discard_threshold or start with a larger shift\n",
      "\n",
      "PERFORMANCE WARNING:\n",
      "Thresholded incomplete Cholesky decomposition failed due to insufficient positive-definiteness of matrix A with parameters:\n",
      "    discard_threshold = 1.000000e-04\n",
      "    shift = 1.000000e-03\n",
      "Try decreasing discard_threshold or start with a larger shift\n",
      "\n",
      "PERFORMANCE WARNING:\n",
      "Thresholded incomplete Cholesky decomposition failed due to insufficient positive-definiteness of matrix A with parameters:\n",
      "    discard_threshold = 1.000000e-04\n",
      "    shift = 1.000000e-02\n",
      "Try decreasing discard_threshold or start with a larger shift\n",
      "\n"
     ]
    },
    {
     "name": "stderr",
     "output_type": "stream",
     "text": [
      "Processing bo-la-lot: 100%|██████████| 458/458 [09:27<00:00,  1.24s/it]\n",
      "Processing bot-chien: 100%|██████████| 276/276 [05:42<00:00,  1.24s/it]\n",
      "Processing ca-ri:  85%|████████▌ | 146/171 [02:59<00:33,  1.33s/it]"
     ]
    },
    {
     "name": "stdout",
     "output_type": "stream",
     "text": [
      "PERFORMANCE WARNING:\n",
      "Thresholded incomplete Cholesky decomposition failed due to insufficient positive-definiteness of matrix A with parameters:\n",
      "    discard_threshold = 1.000000e-04\n",
      "    shift = 0.000000e+00\n",
      "Try decreasing discard_threshold or start with a larger shift\n",
      "\n",
      "PERFORMANCE WARNING:\n",
      "Thresholded incomplete Cholesky decomposition failed due to insufficient positive-definiteness of matrix A with parameters:\n",
      "    discard_threshold = 1.000000e-04\n",
      "    shift = 1.000000e-04\n",
      "Try decreasing discard_threshold or start with a larger shift\n",
      "\n",
      "PERFORMANCE WARNING:\n",
      "Thresholded incomplete Cholesky decomposition failed due to insufficient positive-definiteness of matrix A with parameters:\n",
      "    discard_threshold = 1.000000e-04\n",
      "    shift = 1.000000e-03\n",
      "Try decreasing discard_threshold or start with a larger shift\n",
      "\n"
     ]
    },
    {
     "name": "stderr",
     "output_type": "stream",
     "text": [
      "Processing ca-ri: 100%|██████████| 171/171 [03:31<00:00,  1.24s/it]\n",
      "Processing canh-kho-qua:  86%|████████▌ | 248/290 [05:08<00:56,  1.35s/it]"
     ]
    },
    {
     "name": "stdout",
     "output_type": "stream",
     "text": [
      "PERFORMANCE WARNING:\n",
      "Thresholded incomplete Cholesky decomposition failed due to insufficient positive-definiteness of matrix A with parameters:\n",
      "    discard_threshold = 1.000000e-04\n",
      "    shift = 0.000000e+00\n",
      "Try decreasing discard_threshold or start with a larger shift\n",
      "\n"
     ]
    },
    {
     "name": "stderr",
     "output_type": "stream",
     "text": [
      "Processing canh-kho-qua:  97%|█████████▋| 281/290 [05:49<00:10,  1.17s/it]"
     ]
    },
    {
     "name": "stdout",
     "output_type": "stream",
     "text": [
      "PERFORMANCE WARNING:\n",
      "Thresholded incomplete Cholesky decomposition failed due to insufficient positive-definiteness of matrix A with parameters:\n",
      "    discard_threshold = 1.000000e-04\n",
      "    shift = 0.000000e+00\n",
      "Try decreasing discard_threshold or start with a larger shift\n",
      "\n",
      "PERFORMANCE WARNING:\n",
      "Thresholded incomplete Cholesky decomposition failed due to insufficient positive-definiteness of matrix A with parameters:\n",
      "    discard_threshold = 1.000000e-04\n",
      "    shift = 1.000000e-04\n",
      "Try decreasing discard_threshold or start with a larger shift\n",
      "\n",
      "PERFORMANCE WARNING:\n",
      "Thresholded incomplete Cholesky decomposition failed due to insufficient positive-definiteness of matrix A with parameters:\n",
      "    discard_threshold = 1.000000e-04\n",
      "    shift = 1.000000e-03\n",
      "Try decreasing discard_threshold or start with a larger shift\n",
      "\n"
     ]
    },
    {
     "name": "stderr",
     "output_type": "stream",
     "text": [
      "Processing canh-kho-qua: 100%|██████████| 290/290 [06:01<00:00,  1.25s/it]\n",
      "Processing canh-khoai-mo:  87%|████████▋ | 172/198 [03:31<00:31,  1.20s/it]"
     ]
    },
    {
     "name": "stdout",
     "output_type": "stream",
     "text": [
      "PERFORMANCE WARNING:\n",
      "Thresholded incomplete Cholesky decomposition failed due to insufficient positive-definiteness of matrix A with parameters:\n",
      "    discard_threshold = 1.000000e-04\n",
      "    shift = 0.000000e+00\n",
      "Try decreasing discard_threshold or start with a larger shift\n",
      "\n",
      "PERFORMANCE WARNING:\n",
      "Thresholded incomplete Cholesky decomposition failed due to insufficient positive-definiteness of matrix A with parameters:\n",
      "    discard_threshold = 1.000000e-04\n",
      "    shift = 1.000000e-04\n",
      "Try decreasing discard_threshold or start with a larger shift\n",
      "\n",
      "PERFORMANCE WARNING:\n",
      "Thresholded incomplete Cholesky decomposition failed due to insufficient positive-definiteness of matrix A with parameters:\n",
      "    discard_threshold = 1.000000e-04\n",
      "    shift = 1.000000e-03\n",
      "Try decreasing discard_threshold or start with a larger shift\n",
      "\n"
     ]
    },
    {
     "name": "stderr",
     "output_type": "stream",
     "text": [
      "Processing canh-khoai-mo:  98%|█████████▊| 195/198 [04:00<00:03,  1.21s/it]"
     ]
    },
    {
     "name": "stdout",
     "output_type": "stream",
     "text": [
      "PERFORMANCE WARNING:\n",
      "Thresholded incomplete Cholesky decomposition failed due to insufficient positive-definiteness of matrix A with parameters:\n",
      "    discard_threshold = 1.000000e-04\n",
      "    shift = 0.000000e+00\n",
      "Try decreasing discard_threshold or start with a larger shift\n",
      "\n",
      "PERFORMANCE WARNING:\n",
      "Thresholded incomplete Cholesky decomposition failed due to insufficient positive-definiteness of matrix A with parameters:\n",
      "    discard_threshold = 1.000000e-04\n",
      "    shift = 1.000000e-04\n",
      "Try decreasing discard_threshold or start with a larger shift\n",
      "\n"
     ]
    },
    {
     "name": "stderr",
     "output_type": "stream",
     "text": [
      "Processing canh-khoai-mo: 100%|██████████| 198/198 [04:04<00:00,  1.23s/it]\n",
      "Processing ga-nuong:  17%|█▋        | 62/372 [01:17<06:26,  1.25s/it]"
     ]
    },
    {
     "name": "stdout",
     "output_type": "stream",
     "text": [
      "PERFORMANCE WARNING:\n",
      "Thresholded incomplete Cholesky decomposition failed due to insufficient positive-definiteness of matrix A with parameters:\n",
      "    discard_threshold = 1.000000e-04\n",
      "    shift = 0.000000e+00\n",
      "Try decreasing discard_threshold or start with a larger shift\n",
      "\n"
     ]
    },
    {
     "name": "stderr",
     "output_type": "stream",
     "text": [
      "Processing ga-nuong:  74%|███████▎  | 274/372 [05:45<02:03,  1.26s/it]"
     ]
    },
    {
     "name": "stdout",
     "output_type": "stream",
     "text": [
      "PERFORMANCE WARNING:\n",
      "Thresholded incomplete Cholesky decomposition failed due to insufficient positive-definiteness of matrix A with parameters:\n",
      "    discard_threshold = 1.000000e-04\n",
      "    shift = 0.000000e+00\n",
      "Try decreasing discard_threshold or start with a larger shift\n",
      "\n"
     ]
    },
    {
     "name": "stderr",
     "output_type": "stream",
     "text": [
      "Processing ga-nuong:  74%|███████▍  | 277/372 [05:49<01:59,  1.26s/it]"
     ]
    },
    {
     "name": "stdout",
     "output_type": "stream",
     "text": [
      "PERFORMANCE WARNING:\n",
      "Thresholded incomplete Cholesky decomposition failed due to insufficient positive-definiteness of matrix A with parameters:\n",
      "    discard_threshold = 1.000000e-04\n",
      "    shift = 0.000000e+00\n",
      "Try decreasing discard_threshold or start with a larger shift\n",
      "\n",
      "PERFORMANCE WARNING:\n",
      "Thresholded incomplete Cholesky decomposition failed due to insufficient positive-definiteness of matrix A with parameters:\n",
      "    discard_threshold = 1.000000e-04\n",
      "    shift = 1.000000e-04\n",
      "Try decreasing discard_threshold or start with a larger shift\n",
      "\n"
     ]
    },
    {
     "name": "stderr",
     "output_type": "stream",
     "text": [
      "Processing ga-nuong:  76%|███████▌  | 283/372 [05:56<01:47,  1.20s/it]"
     ]
    },
    {
     "name": "stdout",
     "output_type": "stream",
     "text": [
      "PERFORMANCE WARNING:\n",
      "Thresholded incomplete Cholesky decomposition failed due to insufficient positive-definiteness of matrix A with parameters:\n",
      "    discard_threshold = 1.000000e-04\n",
      "    shift = 0.000000e+00\n",
      "Try decreasing discard_threshold or start with a larger shift\n",
      "\n",
      "PERFORMANCE WARNING:\n",
      "Thresholded incomplete Cholesky decomposition failed due to insufficient positive-definiteness of matrix A with parameters:\n",
      "    discard_threshold = 1.000000e-04\n",
      "    shift = 1.000000e-04\n",
      "Try decreasing discard_threshold or start with a larger shift\n",
      "\n"
     ]
    },
    {
     "name": "stderr",
     "output_type": "stream",
     "text": [
      "Processing ga-nuong:  81%|████████  | 301/372 [06:19<01:24,  1.19s/it]"
     ]
    },
    {
     "name": "stdout",
     "output_type": "stream",
     "text": [
      "PERFORMANCE WARNING:\n",
      "Thresholded incomplete Cholesky decomposition failed due to insufficient positive-definiteness of matrix A with parameters:\n",
      "    discard_threshold = 1.000000e-04\n",
      "    shift = 0.000000e+00\n",
      "Try decreasing discard_threshold or start with a larger shift\n",
      "\n",
      "PERFORMANCE WARNING:\n",
      "Thresholded incomplete Cholesky decomposition failed due to insufficient positive-definiteness of matrix A with parameters:\n",
      "    discard_threshold = 1.000000e-04\n",
      "    shift = 1.000000e-04\n",
      "Try decreasing discard_threshold or start with a larger shift\n",
      "\n",
      "PERFORMANCE WARNING:\n",
      "Thresholded incomplete Cholesky decomposition failed due to insufficient positive-definiteness of matrix A with parameters:\n",
      "    discard_threshold = 1.000000e-04\n",
      "    shift = 1.000000e-03\n",
      "Try decreasing discard_threshold or start with a larger shift\n",
      "\n"
     ]
    },
    {
     "name": "stderr",
     "output_type": "stream",
     "text": [
      "Processing ga-nuong:  92%|█████████▏| 343/372 [07:12<00:37,  1.28s/it]"
     ]
    },
    {
     "name": "stdout",
     "output_type": "stream",
     "text": [
      "PERFORMANCE WARNING:\n",
      "Thresholded incomplete Cholesky decomposition failed due to insufficient positive-definiteness of matrix A with parameters:\n",
      "    discard_threshold = 1.000000e-04\n",
      "    shift = 0.000000e+00\n",
      "Try decreasing discard_threshold or start with a larger shift\n",
      "\n",
      "PERFORMANCE WARNING:\n",
      "Thresholded incomplete Cholesky decomposition failed due to insufficient positive-definiteness of matrix A with parameters:\n",
      "    discard_threshold = 1.000000e-04\n",
      "    shift = 1.000000e-04\n",
      "Try decreasing discard_threshold or start with a larger shift\n",
      "\n",
      "PERFORMANCE WARNING:\n",
      "Thresholded incomplete Cholesky decomposition failed due to insufficient positive-definiteness of matrix A with parameters:\n",
      "    discard_threshold = 1.000000e-04\n",
      "    shift = 1.000000e-03\n",
      "Try decreasing discard_threshold or start with a larger shift\n",
      "\n"
     ]
    },
    {
     "name": "stderr",
     "output_type": "stream",
     "text": [
      "Processing ga-nuong:  94%|█████████▍| 350/372 [07:21<00:27,  1.25s/it]"
     ]
    },
    {
     "name": "stdout",
     "output_type": "stream",
     "text": [
      "PERFORMANCE WARNING:\n",
      "Thresholded incomplete Cholesky decomposition failed due to insufficient positive-definiteness of matrix A with parameters:\n",
      "    discard_threshold = 1.000000e-04\n",
      "    shift = 0.000000e+00\n",
      "Try decreasing discard_threshold or start with a larger shift\n",
      "\n",
      "PERFORMANCE WARNING:\n",
      "Thresholded incomplete Cholesky decomposition failed due to insufficient positive-definiteness of matrix A with parameters:\n",
      "    discard_threshold = 1.000000e-04\n",
      "    shift = 1.000000e-04\n",
      "Try decreasing discard_threshold or start with a larger shift\n",
      "\n",
      "PERFORMANCE WARNING:\n",
      "Thresholded incomplete Cholesky decomposition failed due to insufficient positive-definiteness of matrix A with parameters:\n",
      "    discard_threshold = 1.000000e-04\n",
      "    shift = 1.000000e-03\n",
      "Try decreasing discard_threshold or start with a larger shift\n",
      "\n"
     ]
    },
    {
     "name": "stderr",
     "output_type": "stream",
     "text": [
      "Processing ga-nuong:  98%|█████████▊| 366/372 [07:40<00:07,  1.28s/it]"
     ]
    },
    {
     "name": "stdout",
     "output_type": "stream",
     "text": [
      "PERFORMANCE WARNING:\n",
      "Thresholded incomplete Cholesky decomposition failed due to insufficient positive-definiteness of matrix A with parameters:\n",
      "    discard_threshold = 1.000000e-04\n",
      "    shift = 0.000000e+00\n",
      "Try decreasing discard_threshold or start with a larger shift\n",
      "\n",
      "PERFORMANCE WARNING:\n",
      "Thresholded incomplete Cholesky decomposition failed due to insufficient positive-definiteness of matrix A with parameters:\n",
      "    discard_threshold = 1.000000e-04\n",
      "    shift = 1.000000e-04\n",
      "Try decreasing discard_threshold or start with a larger shift\n",
      "\n",
      "PERFORMANCE WARNING:\n",
      "Thresholded incomplete Cholesky decomposition failed due to insufficient positive-definiteness of matrix A with parameters:\n",
      "    discard_threshold = 1.000000e-04\n",
      "    shift = 1.000000e-03\n",
      "Try decreasing discard_threshold or start with a larger shift\n",
      "\n"
     ]
    },
    {
     "name": "stderr",
     "output_type": "stream",
     "text": [
      "Processing ga-nuong: 100%|██████████| 372/372 [07:50<00:00,  1.26s/it]\n",
      "Processing goi-ga:  70%|██████▉   | 202/290 [04:18<01:48,  1.24s/it]"
     ]
    },
    {
     "name": "stdout",
     "output_type": "stream",
     "text": [
      "PERFORMANCE WARNING:\n",
      "Thresholded incomplete Cholesky decomposition failed due to insufficient positive-definiteness of matrix A with parameters:\n",
      "    discard_threshold = 1.000000e-04\n",
      "    shift = 0.000000e+00\n",
      "Try decreasing discard_threshold or start with a larger shift\n",
      "\n",
      "PERFORMANCE WARNING:\n",
      "Thresholded incomplete Cholesky decomposition failed due to insufficient positive-definiteness of matrix A with parameters:\n",
      "    discard_threshold = 1.000000e-04\n",
      "    shift = 1.000000e-04\n",
      "Try decreasing discard_threshold or start with a larger shift\n",
      "\n",
      "PERFORMANCE WARNING:\n",
      "Thresholded incomplete Cholesky decomposition failed due to insufficient positive-definiteness of matrix A with parameters:\n",
      "    discard_threshold = 1.000000e-04\n",
      "    shift = 1.000000e-03\n",
      "Try decreasing discard_threshold or start with a larger shift\n",
      "\n"
     ]
    },
    {
     "name": "stderr",
     "output_type": "stream",
     "text": [
      "Processing goi-ga:  73%|███████▎  | 213/290 [04:32<01:31,  1.19s/it]"
     ]
    },
    {
     "name": "stdout",
     "output_type": "stream",
     "text": [
      "PERFORMANCE WARNING:\n",
      "Thresholded incomplete Cholesky decomposition failed due to insufficient positive-definiteness of matrix A with parameters:\n",
      "    discard_threshold = 1.000000e-04\n",
      "    shift = 0.000000e+00\n",
      "Try decreasing discard_threshold or start with a larger shift\n",
      "\n",
      "PERFORMANCE WARNING:\n",
      "Thresholded incomplete Cholesky decomposition failed due to insufficient positive-definiteness of matrix A with parameters:\n",
      "    discard_threshold = 1.000000e-04\n",
      "    shift = 1.000000e-04\n",
      "Try decreasing discard_threshold or start with a larger shift\n",
      "\n",
      "PERFORMANCE WARNING:\n",
      "Thresholded incomplete Cholesky decomposition failed due to insufficient positive-definiteness of matrix A with parameters:\n",
      "    discard_threshold = 1.000000e-04\n",
      "    shift = 1.000000e-03\n",
      "Try decreasing discard_threshold or start with a larger shift\n",
      "\n"
     ]
    },
    {
     "name": "stderr",
     "output_type": "stream",
     "text": [
      "Processing goi-ga:  77%|███████▋  | 223/290 [04:44<01:20,  1.20s/it]"
     ]
    },
    {
     "name": "stdout",
     "output_type": "stream",
     "text": [
      "PERFORMANCE WARNING:\n",
      "Thresholded incomplete Cholesky decomposition failed due to insufficient positive-definiteness of matrix A with parameters:\n",
      "    discard_threshold = 1.000000e-04\n",
      "    shift = 0.000000e+00\n",
      "Try decreasing discard_threshold or start with a larger shift\n",
      "\n"
     ]
    },
    {
     "name": "stderr",
     "output_type": "stream",
     "text": [
      "Processing goi-ga:  81%|████████  | 235/290 [04:59<01:10,  1.28s/it]"
     ]
    },
    {
     "name": "stdout",
     "output_type": "stream",
     "text": [
      "PERFORMANCE WARNING:\n",
      "Thresholded incomplete Cholesky decomposition failed due to insufficient positive-definiteness of matrix A with parameters:\n",
      "    discard_threshold = 1.000000e-04\n",
      "    shift = 0.000000e+00\n",
      "Try decreasing discard_threshold or start with a larger shift\n",
      "\n",
      "PERFORMANCE WARNING:\n",
      "Thresholded incomplete Cholesky decomposition failed due to insufficient positive-definiteness of matrix A with parameters:\n",
      "    discard_threshold = 1.000000e-04\n",
      "    shift = 1.000000e-04\n",
      "Try decreasing discard_threshold or start with a larger shift\n",
      "\n",
      "PERFORMANCE WARNING:\n",
      "Thresholded incomplete Cholesky decomposition failed due to insufficient positive-definiteness of matrix A with parameters:\n",
      "    discard_threshold = 1.000000e-04\n",
      "    shift = 1.000000e-03\n",
      "Try decreasing discard_threshold or start with a larger shift\n",
      "\n"
     ]
    },
    {
     "name": "stderr",
     "output_type": "stream",
     "text": [
      "Processing goi-ga:  90%|█████████ | 261/290 [05:31<00:37,  1.31s/it]"
     ]
    },
    {
     "name": "stdout",
     "output_type": "stream",
     "text": [
      "PERFORMANCE WARNING:\n",
      "Thresholded incomplete Cholesky decomposition failed due to insufficient positive-definiteness of matrix A with parameters:\n",
      "    discard_threshold = 1.000000e-04\n",
      "    shift = 0.000000e+00\n",
      "Try decreasing discard_threshold or start with a larger shift\n",
      "\n",
      "PERFORMANCE WARNING:\n",
      "Thresholded incomplete Cholesky decomposition failed due to insufficient positive-definiteness of matrix A with parameters:\n",
      "    discard_threshold = 1.000000e-04\n",
      "    shift = 1.000000e-04\n",
      "Try decreasing discard_threshold or start with a larger shift\n",
      "\n",
      "PERFORMANCE WARNING:\n",
      "Thresholded incomplete Cholesky decomposition failed due to insufficient positive-definiteness of matrix A with parameters:\n",
      "    discard_threshold = 1.000000e-04\n",
      "    shift = 1.000000e-03\n",
      "Try decreasing discard_threshold or start with a larger shift\n",
      "\n"
     ]
    },
    {
     "name": "stderr",
     "output_type": "stream",
     "text": [
      "Processing goi-ga:  96%|█████████▌| 277/290 [05:51<00:15,  1.22s/it]"
     ]
    },
    {
     "name": "stdout",
     "output_type": "stream",
     "text": [
      "PERFORMANCE WARNING:\n",
      "Thresholded incomplete Cholesky decomposition failed due to insufficient positive-definiteness of matrix A with parameters:\n",
      "    discard_threshold = 1.000000e-04\n",
      "    shift = 0.000000e+00\n",
      "Try decreasing discard_threshold or start with a larger shift\n",
      "\n",
      "PERFORMANCE WARNING:\n",
      "Thresholded incomplete Cholesky decomposition failed due to insufficient positive-definiteness of matrix A with parameters:\n",
      "    discard_threshold = 1.000000e-04\n",
      "    shift = 1.000000e-04\n",
      "Try decreasing discard_threshold or start with a larger shift\n",
      "\n"
     ]
    },
    {
     "name": "stderr",
     "output_type": "stream",
     "text": [
      "Processing goi-ga: 100%|██████████| 290/290 [06:08<00:00,  1.27s/it]\n",
      "Processing ha-cao:  23%|██▎       | 112/480 [02:19<07:57,  1.30s/it]"
     ]
    },
    {
     "name": "stdout",
     "output_type": "stream",
     "text": [
      "PERFORMANCE WARNING:\n",
      "Thresholded incomplete Cholesky decomposition failed due to insufficient positive-definiteness of matrix A with parameters:\n",
      "    discard_threshold = 1.000000e-04\n",
      "    shift = 0.000000e+00\n",
      "Try decreasing discard_threshold or start with a larger shift\n",
      "\n",
      "PERFORMANCE WARNING:\n",
      "Thresholded incomplete Cholesky decomposition failed due to insufficient positive-definiteness of matrix A with parameters:\n",
      "    discard_threshold = 1.000000e-04\n",
      "    shift = 1.000000e-04\n",
      "Try decreasing discard_threshold or start with a larger shift\n",
      "\n",
      "PERFORMANCE WARNING:\n",
      "Thresholded incomplete Cholesky decomposition failed due to insufficient positive-definiteness of matrix A with parameters:\n",
      "    discard_threshold = 1.000000e-04\n",
      "    shift = 1.000000e-03\n",
      "Try decreasing discard_threshold or start with a larger shift\n",
      "\n"
     ]
    },
    {
     "name": "stderr",
     "output_type": "stream",
     "text": [
      "Processing ha-cao: 100%|██████████| 480/480 [09:53<00:00,  1.24s/it]\n",
      "Processing hoanh-thanh-nuoc:   4%|▍         | 10/240 [00:12<04:54,  1.28s/it]"
     ]
    },
    {
     "name": "stdout",
     "output_type": "stream",
     "text": [
      "PERFORMANCE WARNING:\n",
      "Thresholded incomplete Cholesky decomposition failed due to insufficient positive-definiteness of matrix A with parameters:\n",
      "    discard_threshold = 1.000000e-04\n",
      "    shift = 0.000000e+00\n",
      "Try decreasing discard_threshold or start with a larger shift\n",
      "\n",
      "PERFORMANCE WARNING:\n",
      "Thresholded incomplete Cholesky decomposition failed due to insufficient positive-definiteness of matrix A with parameters:\n",
      "    discard_threshold = 1.000000e-04\n",
      "    shift = 1.000000e-04\n",
      "Try decreasing discard_threshold or start with a larger shift\n",
      "\n",
      "PERFORMANCE WARNING:\n",
      "Thresholded incomplete Cholesky decomposition failed due to insufficient positive-definiteness of matrix A with parameters:\n",
      "    discard_threshold = 1.000000e-04\n",
      "    shift = 1.000000e-03\n",
      "Try decreasing discard_threshold or start with a larger shift\n",
      "\n"
     ]
    },
    {
     "name": "stderr",
     "output_type": "stream",
     "text": [
      "Processing hoanh-thanh-nuoc:  15%|█▌        | 36/240 [00:46<04:26,  1.30s/it]"
     ]
    },
    {
     "name": "stdout",
     "output_type": "stream",
     "text": [
      "PERFORMANCE WARNING:\n",
      "Thresholded incomplete Cholesky decomposition failed due to insufficient positive-definiteness of matrix A with parameters:\n",
      "    discard_threshold = 1.000000e-04\n",
      "    shift = 0.000000e+00\n",
      "Try decreasing discard_threshold or start with a larger shift\n",
      "\n",
      "PERFORMANCE WARNING:\n",
      "Thresholded incomplete Cholesky decomposition failed due to insufficient positive-definiteness of matrix A with parameters:\n",
      "    discard_threshold = 1.000000e-04\n",
      "    shift = 1.000000e-04\n",
      "Try decreasing discard_threshold or start with a larger shift\n",
      "\n",
      "PERFORMANCE WARNING:\n",
      "Thresholded incomplete Cholesky decomposition failed due to insufficient positive-definiteness of matrix A with parameters:\n",
      "    discard_threshold = 1.000000e-04\n",
      "    shift = 1.000000e-03\n",
      "Try decreasing discard_threshold or start with a larger shift\n",
      "\n"
     ]
    },
    {
     "name": "stderr",
     "output_type": "stream",
     "text": [
      "Processing hoanh-thanh-nuoc:  76%|███████▋  | 183/240 [03:50<01:08,  1.21s/it]"
     ]
    },
    {
     "name": "stdout",
     "output_type": "stream",
     "text": [
      "PERFORMANCE WARNING:\n",
      "Thresholded incomplete Cholesky decomposition failed due to insufficient positive-definiteness of matrix A with parameters:\n",
      "    discard_threshold = 1.000000e-04\n",
      "    shift = 0.000000e+00\n",
      "Try decreasing discard_threshold or start with a larger shift\n",
      "\n",
      "PERFORMANCE WARNING:\n",
      "Thresholded incomplete Cholesky decomposition failed due to insufficient positive-definiteness of matrix A with parameters:\n",
      "    discard_threshold = 1.000000e-04\n",
      "    shift = 1.000000e-04\n",
      "Try decreasing discard_threshold or start with a larger shift\n",
      "\n",
      "PERFORMANCE WARNING:\n",
      "Thresholded incomplete Cholesky decomposition failed due to insufficient positive-definiteness of matrix A with parameters:\n",
      "    discard_threshold = 1.000000e-04\n",
      "    shift = 1.000000e-03\n",
      "Try decreasing discard_threshold or start with a larger shift\n",
      "\n",
      "PERFORMANCE WARNING:\n",
      "Thresholded incomplete Cholesky decomposition failed due to insufficient positive-definiteness of matrix A with parameters:\n",
      "    discard_threshold = 1.000000e-04\n",
      "    shift = 1.000000e-02\n",
      "Try decreasing discard_threshold or start with a larger shift\n",
      "\n"
     ]
    },
    {
     "name": "stderr",
     "output_type": "stream",
     "text": [
      "Processing hoanh-thanh-nuoc: 100%|██████████| 240/240 [05:01<00:00,  1.26s/it]\n",
      "Processing pha-lau: 100%|██████████| 352/352 [07:05<00:00,  1.21s/it]\n",
      "Processing tau-hu:   3%|▎         | 7/203 [00:09<04:26,  1.36s/it]"
     ]
    },
    {
     "name": "stdout",
     "output_type": "stream",
     "text": [
      "PERFORMANCE WARNING:\n",
      "Thresholded incomplete Cholesky decomposition failed due to insufficient positive-definiteness of matrix A with parameters:\n",
      "    discard_threshold = 1.000000e-04\n",
      "    shift = 0.000000e+00\n",
      "Try decreasing discard_threshold or start with a larger shift\n",
      "\n",
      "PERFORMANCE WARNING:\n",
      "Thresholded incomplete Cholesky decomposition failed due to insufficient positive-definiteness of matrix A with parameters:\n",
      "    discard_threshold = 1.000000e-04\n",
      "    shift = 1.000000e-04\n",
      "Try decreasing discard_threshold or start with a larger shift\n",
      "\n"
     ]
    },
    {
     "name": "stderr",
     "output_type": "stream",
     "text": [
      "Processing tau-hu: 100%|██████████| 203/203 [04:06<00:00,  1.21s/it]\n",
      "Processing thit-kho-trung: 100%|██████████| 325/325 [06:43<00:00,  1.24s/it]\n"
     ]
    }
   ],
   "source": [
    "test_dir = r'E:\\DS201.Q11\\DS201\\Lab_2\\data\\VinaFood21/test'\n",
    "preprocessed_test_dir = r'E:\\DS201.Q11\\DS201\\Lab_2\\data\\VinaFood21_Preprocessed/test'\n",
    "process_folder(test_dir, preprocessed_test_dir, show_images=False)\n"
   ]
  },
  {
   "cell_type": "code",
   "execution_count": null,
   "id": "a36fe278",
   "metadata": {},
   "outputs": [],
   "source": [
    "# img = cv.imread(path)\n"
   ]
  },
  {
   "cell_type": "code",
   "execution_count": null,
   "id": "35d9cadd",
   "metadata": {},
   "outputs": [],
   "source": [
    "# # OpenCV đọc ảnh theo định dạng BGR (Blue-Green-Red).\n",
    "# # Matplotlib hiển thị ảnh theo định dạng RGB (Red-Green-Blue).\n",
    "# # Cần chuyển đổi định dạng này trước khi hiển thị.\n",
    "# img_rgb = cv.cvtColor(img, cv.COLOR_BGR2RGB)\n",
    "# img_rgb = cv.resize(img_rgb, (224, 224))  # Thay đổi kích thước ảnh nếu cần\n",
    "# # Hiển thị ảnh bằng Matplotlib\n",
    "# plt.imshow(img_rgb)\n",
    "# plt.title(\"Image\") # Thêm tiêu đề (tùy chọn)\n",
    "# plt.axis('off')    # Tắt trục tọa độ (tùy chọn)\n",
    "# plt.show()"
   ]
  }
 ],
 "metadata": {
  "kernelspec": {
   "display_name": "DS201_env",
   "language": "python",
   "name": "python3"
  },
  "language_info": {
   "codemirror_mode": {
    "name": "ipython",
    "version": 3
   },
   "file_extension": ".py",
   "mimetype": "text/x-python",
   "name": "python",
   "nbconvert_exporter": "python",
   "pygments_lexer": "ipython3",
   "version": "3.12.12"
  }
 },
 "nbformat": 4,
 "nbformat_minor": 5
}
