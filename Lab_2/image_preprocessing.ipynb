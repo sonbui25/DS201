{
 "cells": [
  {
   "cell_type": "code",
   "execution_count": null,
   "id": "649ba41a",
   "metadata": {},
   "outputs": [
    {
     "name": "stderr",
     "output_type": "stream",
     "text": [
      "Processing banh-can:  12%|█▏        | 42/363 [00:51<06:28,  1.21s/it]"
     ]
    },
    {
     "name": "stdout",
     "output_type": "stream",
     "text": [
      "PERFORMANCE WARNING:\n",
      "Thresholded incomplete Cholesky decomposition failed due to insufficient positive-definiteness of matrix A with parameters:\n",
      "    discard_threshold = 1.000000e-04\n",
      "    shift = 0.000000e+00\n",
      "Try decreasing discard_threshold or start with a larger shift\n",
      "\n",
      "PERFORMANCE WARNING:\n",
      "Thresholded incomplete Cholesky decomposition failed due to insufficient positive-definiteness of matrix A with parameters:\n",
      "    discard_threshold = 1.000000e-04\n",
      "    shift = 1.000000e-04\n",
      "Try decreasing discard_threshold or start with a larger shift\n",
      "\n"
     ]
    },
    {
     "name": "stderr",
     "output_type": "stream",
     "text": [
      "Processing banh-can:  90%|████████▉ | 325/363 [06:40<00:46,  1.23s/it]"
     ]
    },
    {
     "name": "stdout",
     "output_type": "stream",
     "text": [
      "PERFORMANCE WARNING:\n",
      "Thresholded incomplete Cholesky decomposition failed due to insufficient positive-definiteness of matrix A with parameters:\n",
      "    discard_threshold = 1.000000e-04\n",
      "    shift = 0.000000e+00\n",
      "Try decreasing discard_threshold or start with a larger shift\n",
      "\n",
      "PERFORMANCE WARNING:\n",
      "Thresholded incomplete Cholesky decomposition failed due to insufficient positive-definiteness of matrix A with parameters:\n",
      "    discard_threshold = 1.000000e-04\n",
      "    shift = 1.000000e-04\n",
      "Try decreasing discard_threshold or start with a larger shift\n",
      "\n",
      "PERFORMANCE WARNING:\n",
      "Thresholded incomplete Cholesky decomposition failed due to insufficient positive-definiteness of matrix A with parameters:\n",
      "    discard_threshold = 1.000000e-04\n",
      "    shift = 1.000000e-03\n",
      "Try decreasing discard_threshold or start with a larger shift\n",
      "\n",
      "PERFORMANCE WARNING:\n",
      "Thresholded incomplete Cholesky decomposition failed due to insufficient positive-definiteness of matrix A with parameters:\n",
      "    discard_threshold = 1.000000e-04\n",
      "    shift = 1.000000e-02\n",
      "Try decreasing discard_threshold or start with a larger shift\n",
      "\n"
     ]
    },
    {
     "name": "stderr",
     "output_type": "stream",
     "text": [
      "Processing banh-can:  92%|█████████▏| 333/363 [06:49<00:37,  1.26s/it]"
     ]
    },
    {
     "name": "stdout",
     "output_type": "stream",
     "text": [
      "PERFORMANCE WARNING:\n",
      "Thresholded incomplete Cholesky decomposition failed due to insufficient positive-definiteness of matrix A with parameters:\n",
      "    discard_threshold = 1.000000e-04\n",
      "    shift = 0.000000e+00\n",
      "Try decreasing discard_threshold or start with a larger shift\n",
      "\n",
      "PERFORMANCE WARNING:\n",
      "Thresholded incomplete Cholesky decomposition failed due to insufficient positive-definiteness of matrix A with parameters:\n",
      "    discard_threshold = 1.000000e-04\n",
      "    shift = 1.000000e-04\n",
      "Try decreasing discard_threshold or start with a larger shift\n",
      "\n",
      "PERFORMANCE WARNING:\n",
      "Thresholded incomplete Cholesky decomposition failed due to insufficient positive-definiteness of matrix A with parameters:\n",
      "    discard_threshold = 1.000000e-04\n",
      "    shift = 1.000000e-03\n",
      "Try decreasing discard_threshold or start with a larger shift\n",
      "\n"
     ]
    },
    {
     "name": "stderr",
     "output_type": "stream",
     "text": [
      "Processing banh-can: 100%|██████████| 363/363 [07:26<00:00,  1.23s/it]\n",
      "Processing banh-hoi:   1%|▏         | 13/910 [00:15<17:53,  1.20s/it]"
     ]
    },
    {
     "name": "stdout",
     "output_type": "stream",
     "text": [
      "PERFORMANCE WARNING:\n",
      "Thresholded incomplete Cholesky decomposition failed due to insufficient positive-definiteness of matrix A with parameters:\n",
      "    discard_threshold = 1.000000e-04\n",
      "    shift = 0.000000e+00\n",
      "Try decreasing discard_threshold or start with a larger shift\n",
      "\n",
      "PERFORMANCE WARNING:\n",
      "Thresholded incomplete Cholesky decomposition failed due to insufficient positive-definiteness of matrix A with parameters:\n",
      "    discard_threshold = 1.000000e-04\n",
      "    shift = 1.000000e-04\n",
      "Try decreasing discard_threshold or start with a larger shift\n",
      "\n"
     ]
    },
    {
     "name": "stderr",
     "output_type": "stream",
     "text": [
      "Processing banh-hoi:  20%|█▉        | 181/910 [03:45<15:11,  1.25s/it]"
     ]
    },
    {
     "name": "stdout",
     "output_type": "stream",
     "text": [
      "PERFORMANCE WARNING:\n",
      "Thresholded incomplete Cholesky decomposition failed due to insufficient positive-definiteness of matrix A with parameters:\n",
      "    discard_threshold = 1.000000e-04\n",
      "    shift = 0.000000e+00\n",
      "Try decreasing discard_threshold or start with a larger shift\n",
      "\n"
     ]
    },
    {
     "name": "stderr",
     "output_type": "stream",
     "text": [
      "Processing banh-hoi:  43%|████▎     | 387/910 [08:07<11:04,  1.27s/it]"
     ]
    },
    {
     "name": "stdout",
     "output_type": "stream",
     "text": [
      "PERFORMANCE WARNING:\n",
      "Thresholded incomplete Cholesky decomposition failed due to insufficient positive-definiteness of matrix A with parameters:\n",
      "    discard_threshold = 1.000000e-04\n",
      "    shift = 0.000000e+00\n",
      "Try decreasing discard_threshold or start with a larger shift\n",
      "\n"
     ]
    },
    {
     "name": "stderr",
     "output_type": "stream",
     "text": [
      "Processing banh-hoi:  44%|████▍     | 401/910 [08:26<10:58,  1.29s/it]"
     ]
    },
    {
     "name": "stdout",
     "output_type": "stream",
     "text": [
      "PERFORMANCE WARNING:\n",
      "Thresholded incomplete Cholesky decomposition failed due to insufficient positive-definiteness of matrix A with parameters:\n",
      "    discard_threshold = 1.000000e-04\n",
      "    shift = 0.000000e+00\n",
      "Try decreasing discard_threshold or start with a larger shift\n",
      "\n",
      "PERFORMANCE WARNING:\n",
      "Thresholded incomplete Cholesky decomposition failed due to insufficient positive-definiteness of matrix A with parameters:\n",
      "    discard_threshold = 1.000000e-04\n",
      "    shift = 1.000000e-04\n",
      "Try decreasing discard_threshold or start with a larger shift\n",
      "\n",
      "PERFORMANCE WARNING:\n",
      "Thresholded incomplete Cholesky decomposition failed due to insufficient positive-definiteness of matrix A with parameters:\n",
      "    discard_threshold = 1.000000e-04\n",
      "    shift = 1.000000e-03\n",
      "Try decreasing discard_threshold or start with a larger shift\n",
      "\n",
      "PERFORMANCE WARNING:\n",
      "Thresholded incomplete Cholesky decomposition failed due to insufficient positive-definiteness of matrix A with parameters:\n",
      "    discard_threshold = 1.000000e-04\n",
      "    shift = 1.000000e-02\n",
      "Try decreasing discard_threshold or start with a larger shift\n",
      "\n"
     ]
    },
    {
     "name": "stderr",
     "output_type": "stream",
     "text": [
      "Processing banh-hoi:  68%|██████▊   | 615/910 [13:03<06:22,  1.30s/it]"
     ]
    },
    {
     "name": "stdout",
     "output_type": "stream",
     "text": [
      "PERFORMANCE WARNING:\n",
      "Thresholded incomplete Cholesky decomposition failed due to insufficient positive-definiteness of matrix A with parameters:\n",
      "    discard_threshold = 1.000000e-04\n",
      "    shift = 0.000000e+00\n",
      "Try decreasing discard_threshold or start with a larger shift\n",
      "\n"
     ]
    },
    {
     "name": "stderr",
     "output_type": "stream",
     "text": [
      "Processing banh-hoi:  85%|████████▍ | 773/910 [16:26<02:58,  1.30s/it]"
     ]
    },
    {
     "name": "stdout",
     "output_type": "stream",
     "text": [
      "PERFORMANCE WARNING:\n",
      "Thresholded incomplete Cholesky decomposition failed due to insufficient positive-definiteness of matrix A with parameters:\n",
      "    discard_threshold = 1.000000e-04\n",
      "    shift = 0.000000e+00\n",
      "Try decreasing discard_threshold or start with a larger shift\n",
      "\n"
     ]
    },
    {
     "name": "stderr",
     "output_type": "stream",
     "text": [
      "Processing banh-hoi:  85%|████████▌ | 778/910 [16:32<02:49,  1.29s/it]"
     ]
    },
    {
     "name": "stdout",
     "output_type": "stream",
     "text": [
      "PERFORMANCE WARNING:\n",
      "Thresholded incomplete Cholesky decomposition failed due to insufficient positive-definiteness of matrix A with parameters:\n",
      "    discard_threshold = 1.000000e-04\n",
      "    shift = 0.000000e+00\n",
      "Try decreasing discard_threshold or start with a larger shift\n",
      "\n",
      "PERFORMANCE WARNING:\n",
      "Thresholded incomplete Cholesky decomposition failed due to insufficient positive-definiteness of matrix A with parameters:\n",
      "    discard_threshold = 1.000000e-04\n",
      "    shift = 1.000000e-04\n",
      "Try decreasing discard_threshold or start with a larger shift\n",
      "\n"
     ]
    },
    {
     "name": "stderr",
     "output_type": "stream",
     "text": [
      "Processing banh-hoi:  95%|█████████▌| 865/910 [18:24<00:57,  1.28s/it]"
     ]
    },
    {
     "name": "stdout",
     "output_type": "stream",
     "text": [
      "PERFORMANCE WARNING:\n",
      "Thresholded incomplete Cholesky decomposition failed due to insufficient positive-definiteness of matrix A with parameters:\n",
      "    discard_threshold = 1.000000e-04\n",
      "    shift = 0.000000e+00\n",
      "Try decreasing discard_threshold or start with a larger shift\n",
      "\n",
      "PERFORMANCE WARNING:\n",
      "Thresholded incomplete Cholesky decomposition failed due to insufficient positive-definiteness of matrix A with parameters:\n",
      "    discard_threshold = 1.000000e-04\n",
      "    shift = 1.000000e-04\n",
      "Try decreasing discard_threshold or start with a larger shift\n",
      "\n",
      "PERFORMANCE WARNING:\n",
      "Thresholded incomplete Cholesky decomposition failed due to insufficient positive-definiteness of matrix A with parameters:\n",
      "    discard_threshold = 1.000000e-04\n",
      "    shift = 1.000000e-03\n",
      "Try decreasing discard_threshold or start with a larger shift\n",
      "\n",
      "PERFORMANCE WARNING:\n",
      "Thresholded incomplete Cholesky decomposition failed due to insufficient positive-definiteness of matrix A with parameters:\n",
      "    discard_threshold = 1.000000e-04\n",
      "    shift = 1.000000e-02\n",
      "Try decreasing discard_threshold or start with a larger shift\n",
      "\n"
     ]
    },
    {
     "name": "stderr",
     "output_type": "stream",
     "text": [
      "Processing banh-hoi:  95%|█████████▌| 866/910 [18:25<00:53,  1.22s/it]"
     ]
    },
    {
     "name": "stdout",
     "output_type": "stream",
     "text": [
      "PERFORMANCE WARNING:\n",
      "Thresholded incomplete Cholesky decomposition failed due to insufficient positive-definiteness of matrix A with parameters:\n",
      "    discard_threshold = 1.000000e-04\n",
      "    shift = 0.000000e+00\n",
      "Try decreasing discard_threshold or start with a larger shift\n",
      "\n",
      "PERFORMANCE WARNING:\n",
      "Thresholded incomplete Cholesky decomposition failed due to insufficient positive-definiteness of matrix A with parameters:\n",
      "    discard_threshold = 1.000000e-04\n",
      "    shift = 1.000000e-04\n",
      "Try decreasing discard_threshold or start with a larger shift\n",
      "\n",
      "PERFORMANCE WARNING:\n",
      "Thresholded incomplete Cholesky decomposition failed due to insufficient positive-definiteness of matrix A with parameters:\n",
      "    discard_threshold = 1.000000e-04\n",
      "    shift = 1.000000e-03\n",
      "Try decreasing discard_threshold or start with a larger shift\n",
      "\n",
      "PERFORMANCE WARNING:\n",
      "Thresholded incomplete Cholesky decomposition failed due to insufficient positive-definiteness of matrix A with parameters:\n",
      "    discard_threshold = 1.000000e-04\n",
      "    shift = 1.000000e-02\n",
      "Try decreasing discard_threshold or start with a larger shift\n",
      "\n"
     ]
    },
    {
     "name": "stderr",
     "output_type": "stream",
     "text": [
      "Processing banh-hoi:  96%|█████████▌| 872/910 [18:34<00:53,  1.40s/it]"
     ]
    },
    {
     "name": "stdout",
     "output_type": "stream",
     "text": [
      "PERFORMANCE WARNING:\n",
      "Thresholded incomplete Cholesky decomposition failed due to insufficient positive-definiteness of matrix A with parameters:\n",
      "    discard_threshold = 1.000000e-04\n",
      "    shift = 0.000000e+00\n",
      "Try decreasing discard_threshold or start with a larger shift\n",
      "\n",
      "PERFORMANCE WARNING:\n",
      "Thresholded incomplete Cholesky decomposition failed due to insufficient positive-definiteness of matrix A with parameters:\n",
      "    discard_threshold = 1.000000e-04\n",
      "    shift = 1.000000e-04\n",
      "Try decreasing discard_threshold or start with a larger shift\n",
      "\n"
     ]
    },
    {
     "name": "stderr",
     "output_type": "stream",
     "text": [
      "Processing banh-hoi:  98%|█████████▊| 888/910 [18:53<00:24,  1.13s/it]"
     ]
    },
    {
     "name": "stdout",
     "output_type": "stream",
     "text": [
      "PERFORMANCE WARNING:\n",
      "Thresholded incomplete Cholesky decomposition failed due to insufficient positive-definiteness of matrix A with parameters:\n",
      "    discard_threshold = 1.000000e-04\n",
      "    shift = 0.000000e+00\n",
      "Try decreasing discard_threshold or start with a larger shift\n",
      "\n",
      "PERFORMANCE WARNING:\n",
      "Thresholded incomplete Cholesky decomposition failed due to insufficient positive-definiteness of matrix A with parameters:\n",
      "    discard_threshold = 1.000000e-04\n",
      "    shift = 1.000000e-04\n",
      "Try decreasing discard_threshold or start with a larger shift\n",
      "\n"
     ]
    },
    {
     "name": "stderr",
     "output_type": "stream",
     "text": [
      "Processing banh-hoi: 100%|██████████| 910/910 [19:21<00:00,  1.28s/it]\n",
      "Processing banh-mi-chao:  87%|████████▋ | 378/434 [07:50<01:11,  1.27s/it]"
     ]
    },
    {
     "name": "stdout",
     "output_type": "stream",
     "text": [
      "PERFORMANCE WARNING:\n",
      "Thresholded incomplete Cholesky decomposition failed due to insufficient positive-definiteness of matrix A with parameters:\n",
      "    discard_threshold = 1.000000e-04\n",
      "    shift = 0.000000e+00\n",
      "Try decreasing discard_threshold or start with a larger shift\n",
      "\n",
      "PERFORMANCE WARNING:\n",
      "Thresholded incomplete Cholesky decomposition failed due to insufficient positive-definiteness of matrix A with parameters:\n",
      "    discard_threshold = 1.000000e-04\n",
      "    shift = 1.000000e-04\n",
      "Try decreasing discard_threshold or start with a larger shift\n",
      "\n"
     ]
    },
    {
     "name": "stderr",
     "output_type": "stream",
     "text": [
      "Processing banh-mi-chao:  97%|█████████▋| 422/434 [08:47<00:16,  1.34s/it]"
     ]
    },
    {
     "name": "stdout",
     "output_type": "stream",
     "text": [
      "PERFORMANCE WARNING:\n",
      "Thresholded incomplete Cholesky decomposition failed due to insufficient positive-definiteness of matrix A with parameters:\n",
      "    discard_threshold = 1.000000e-04\n",
      "    shift = 0.000000e+00\n",
      "Try decreasing discard_threshold or start with a larger shift\n",
      "\n",
      "PERFORMANCE WARNING:\n",
      "Thresholded incomplete Cholesky decomposition failed due to insufficient positive-definiteness of matrix A with parameters:\n",
      "    discard_threshold = 1.000000e-04\n",
      "    shift = 1.000000e-04\n",
      "Try decreasing discard_threshold or start with a larger shift\n",
      "\n",
      "PERFORMANCE WARNING:\n",
      "Thresholded incomplete Cholesky decomposition failed due to insufficient positive-definiteness of matrix A with parameters:\n",
      "    discard_threshold = 1.000000e-04\n",
      "    shift = 1.000000e-03\n",
      "Try decreasing discard_threshold or start with a larger shift\n",
      "\n"
     ]
    },
    {
     "name": "stderr",
     "output_type": "stream",
     "text": [
      "Processing banh-mi-chao: 100%|██████████| 434/434 [09:03<00:00,  1.25s/it]\n",
      "Processing banh-tet: 100%|██████████| 548/548 [11:17<00:00,  1.24s/it]\n",
      "Processing banh-trang-tron:  80%|████████  | 372/465 [07:54<01:55,  1.25s/it]"
     ]
    },
    {
     "name": "stdout",
     "output_type": "stream",
     "text": [
      "PERFORMANCE WARNING:\n",
      "Thresholded incomplete Cholesky decomposition failed due to insufficient positive-definiteness of matrix A with parameters:\n",
      "    discard_threshold = 1.000000e-04\n",
      "    shift = 0.000000e+00\n",
      "Try decreasing discard_threshold or start with a larger shift\n",
      "\n",
      "PERFORMANCE WARNING:\n",
      "Thresholded incomplete Cholesky decomposition failed due to insufficient positive-definiteness of matrix A with parameters:\n",
      "    discard_threshold = 1.000000e-04\n",
      "    shift = 1.000000e-04\n",
      "Try decreasing discard_threshold or start with a larger shift\n",
      "\n"
     ]
    },
    {
     "name": "stderr",
     "output_type": "stream",
     "text": [
      "Processing banh-trang-tron:  93%|█████████▎| 433/465 [09:12<00:41,  1.29s/it]"
     ]
    },
    {
     "name": "stdout",
     "output_type": "stream",
     "text": [
      "PERFORMANCE WARNING:\n",
      "Thresholded incomplete Cholesky decomposition failed due to insufficient positive-definiteness of matrix A with parameters:\n",
      "    discard_threshold = 1.000000e-04\n",
      "    shift = 0.000000e+00\n",
      "Try decreasing discard_threshold or start with a larger shift\n",
      "\n",
      "PERFORMANCE WARNING:\n",
      "Thresholded incomplete Cholesky decomposition failed due to insufficient positive-definiteness of matrix A with parameters:\n",
      "    discard_threshold = 1.000000e-04\n",
      "    shift = 1.000000e-04\n",
      "Try decreasing discard_threshold or start with a larger shift\n",
      "\n"
     ]
    },
    {
     "name": "stderr",
     "output_type": "stream",
     "text": [
      "Processing banh-trang-tron:  94%|█████████▍| 439/465 [09:20<00:34,  1.31s/it]"
     ]
    },
    {
     "name": "stdout",
     "output_type": "stream",
     "text": [
      "PERFORMANCE WARNING:\n",
      "Thresholded incomplete Cholesky decomposition failed due to insufficient positive-definiteness of matrix A with parameters:\n",
      "    discard_threshold = 1.000000e-04\n",
      "    shift = 0.000000e+00\n",
      "Try decreasing discard_threshold or start with a larger shift\n",
      "\n",
      "PERFORMANCE WARNING:\n",
      "Thresholded incomplete Cholesky decomposition failed due to insufficient positive-definiteness of matrix A with parameters:\n",
      "    discard_threshold = 1.000000e-04\n",
      "    shift = 1.000000e-04\n",
      "Try decreasing discard_threshold or start with a larger shift\n",
      "\n",
      "PERFORMANCE WARNING:\n",
      "Thresholded incomplete Cholesky decomposition failed due to insufficient positive-definiteness of matrix A with parameters:\n",
      "    discard_threshold = 1.000000e-04\n",
      "    shift = 1.000000e-03\n",
      "Try decreasing discard_threshold or start with a larger shift\n",
      "\n"
     ]
    },
    {
     "name": "stderr",
     "output_type": "stream",
     "text": [
      "Processing banh-trang-tron:  95%|█████████▌| 443/465 [09:25<00:29,  1.36s/it]"
     ]
    },
    {
     "name": "stdout",
     "output_type": "stream",
     "text": [
      "PERFORMANCE WARNING:\n",
      "Thresholded incomplete Cholesky decomposition failed due to insufficient positive-definiteness of matrix A with parameters:\n",
      "    discard_threshold = 1.000000e-04\n",
      "    shift = 0.000000e+00\n",
      "Try decreasing discard_threshold or start with a larger shift\n",
      "\n",
      "PERFORMANCE WARNING:\n",
      "Thresholded incomplete Cholesky decomposition failed due to insufficient positive-definiteness of matrix A with parameters:\n",
      "    discard_threshold = 1.000000e-04\n",
      "    shift = 1.000000e-04\n",
      "Try decreasing discard_threshold or start with a larger shift\n",
      "\n",
      "PERFORMANCE WARNING:\n",
      "Thresholded incomplete Cholesky decomposition failed due to insufficient positive-definiteness of matrix A with parameters:\n",
      "    discard_threshold = 1.000000e-04\n",
      "    shift = 1.000000e-03\n",
      "Try decreasing discard_threshold or start with a larger shift\n",
      "\n",
      "PERFORMANCE WARNING:\n",
      "Thresholded incomplete Cholesky decomposition failed due to insufficient positive-definiteness of matrix A with parameters:\n",
      "    discard_threshold = 1.000000e-04\n",
      "    shift = 1.000000e-02\n",
      "Try decreasing discard_threshold or start with a larger shift\n",
      "\n"
     ]
    },
    {
     "name": "stderr",
     "output_type": "stream",
     "text": [
      "Processing banh-trang-tron:  96%|█████████▋| 448/465 [09:32<00:20,  1.23s/it]"
     ]
    },
    {
     "name": "stdout",
     "output_type": "stream",
     "text": [
      "PERFORMANCE WARNING:\n",
      "Thresholded incomplete Cholesky decomposition failed due to insufficient positive-definiteness of matrix A with parameters:\n",
      "    discard_threshold = 1.000000e-04\n",
      "    shift = 0.000000e+00\n",
      "Try decreasing discard_threshold or start with a larger shift\n",
      "\n",
      "PERFORMANCE WARNING:\n",
      "Thresholded incomplete Cholesky decomposition failed due to insufficient positive-definiteness of matrix A with parameters:\n",
      "    discard_threshold = 1.000000e-04\n",
      "    shift = 1.000000e-04\n",
      "Try decreasing discard_threshold or start with a larger shift\n",
      "\n",
      "PERFORMANCE WARNING:\n",
      "Thresholded incomplete Cholesky decomposition failed due to insufficient positive-definiteness of matrix A with parameters:\n",
      "    discard_threshold = 1.000000e-04\n",
      "    shift = 1.000000e-03\n",
      "Try decreasing discard_threshold or start with a larger shift\n",
      "\n"
     ]
    },
    {
     "name": "stderr",
     "output_type": "stream",
     "text": [
      "Processing banh-trang-tron:  97%|█████████▋| 451/465 [09:35<00:16,  1.21s/it]"
     ]
    },
    {
     "name": "stdout",
     "output_type": "stream",
     "text": [
      "PERFORMANCE WARNING:\n",
      "Thresholded incomplete Cholesky decomposition failed due to insufficient positive-definiteness of matrix A with parameters:\n",
      "    discard_threshold = 1.000000e-04\n",
      "    shift = 0.000000e+00\n",
      "Try decreasing discard_threshold or start with a larger shift\n",
      "\n",
      "PERFORMANCE WARNING:\n",
      "Thresholded incomplete Cholesky decomposition failed due to insufficient positive-definiteness of matrix A with parameters:\n",
      "    discard_threshold = 1.000000e-04\n",
      "    shift = 1.000000e-04\n",
      "Try decreasing discard_threshold or start with a larger shift\n",
      "\n",
      "PERFORMANCE WARNING:\n",
      "Thresholded incomplete Cholesky decomposition failed due to insufficient positive-definiteness of matrix A with parameters:\n",
      "    discard_threshold = 1.000000e-04\n",
      "    shift = 1.000000e-03\n",
      "Try decreasing discard_threshold or start with a larger shift\n",
      "\n"
     ]
    },
    {
     "name": "stderr",
     "output_type": "stream",
     "text": [
      "Processing banh-trang-tron: 100%|██████████| 465/465 [09:54<00:00,  1.28s/it]\n",
      "Processing banh-u:  11%|█         | 29/266 [00:34<04:23,  1.11s/it]"
     ]
    },
    {
     "name": "stdout",
     "output_type": "stream",
     "text": [
      "PERFORMANCE WARNING:\n",
      "Thresholded incomplete Cholesky decomposition failed due to insufficient positive-definiteness of matrix A with parameters:\n",
      "    discard_threshold = 1.000000e-04\n",
      "    shift = 0.000000e+00\n",
      "Try decreasing discard_threshold or start with a larger shift\n",
      "\n",
      "PERFORMANCE WARNING:\n",
      "Thresholded incomplete Cholesky decomposition failed due to insufficient positive-definiteness of matrix A with parameters:\n",
      "    discard_threshold = 1.000000e-04\n",
      "    shift = 1.000000e-04\n",
      "Try decreasing discard_threshold or start with a larger shift\n",
      "\n",
      "PERFORMANCE WARNING:\n",
      "Thresholded incomplete Cholesky decomposition failed due to insufficient positive-definiteness of matrix A with parameters:\n",
      "    discard_threshold = 1.000000e-04\n",
      "    shift = 1.000000e-03\n",
      "Try decreasing discard_threshold or start with a larger shift\n",
      "\n"
     ]
    },
    {
     "name": "stderr",
     "output_type": "stream",
     "text": [
      "Processing banh-u:  85%|████████▌ | 227/266 [04:36<00:50,  1.29s/it]"
     ]
    },
    {
     "name": "stdout",
     "output_type": "stream",
     "text": [
      "PERFORMANCE WARNING:\n",
      "Thresholded incomplete Cholesky decomposition failed due to insufficient positive-definiteness of matrix A with parameters:\n",
      "    discard_threshold = 1.000000e-04\n",
      "    shift = 0.000000e+00\n",
      "Try decreasing discard_threshold or start with a larger shift\n",
      "\n",
      "PERFORMANCE WARNING:\n",
      "Thresholded incomplete Cholesky decomposition failed due to insufficient positive-definiteness of matrix A with parameters:\n",
      "    discard_threshold = 1.000000e-04\n",
      "    shift = 1.000000e-04\n",
      "Try decreasing discard_threshold or start with a larger shift\n",
      "\n",
      "PERFORMANCE WARNING:\n",
      "Thresholded incomplete Cholesky decomposition failed due to insufficient positive-definiteness of matrix A with parameters:\n",
      "    discard_threshold = 1.000000e-04\n",
      "    shift = 1.000000e-03\n",
      "Try decreasing discard_threshold or start with a larger shift\n",
      "\n"
     ]
    },
    {
     "name": "stderr",
     "output_type": "stream",
     "text": [
      "Processing banh-u: 100%|██████████| 266/266 [05:25<00:00,  1.23s/it]\n",
      "Processing banh-uot:  96%|█████████▌| 804/841 [17:13<00:42,  1.14s/it]"
     ]
    },
    {
     "name": "stdout",
     "output_type": "stream",
     "text": [
      "PERFORMANCE WARNING:\n",
      "Thresholded incomplete Cholesky decomposition failed due to insufficient positive-definiteness of matrix A with parameters:\n",
      "    discard_threshold = 1.000000e-04\n",
      "    shift = 0.000000e+00\n",
      "Try decreasing discard_threshold or start with a larger shift\n",
      "\n",
      "PERFORMANCE WARNING:\n",
      "Thresholded incomplete Cholesky decomposition failed due to insufficient positive-definiteness of matrix A with parameters:\n",
      "    discard_threshold = 1.000000e-04\n",
      "    shift = 1.000000e-04\n",
      "Try decreasing discard_threshold or start with a larger shift\n",
      "\n",
      "PERFORMANCE WARNING:\n",
      "Thresholded incomplete Cholesky decomposition failed due to insufficient positive-definiteness of matrix A with parameters:\n",
      "    discard_threshold = 1.000000e-04\n",
      "    shift = 1.000000e-03\n",
      "Try decreasing discard_threshold or start with a larger shift\n",
      "\n"
     ]
    },
    {
     "name": "stderr",
     "output_type": "stream",
     "text": [
      "Processing banh-uot:  98%|█████████▊| 820/841 [17:33<00:26,  1.26s/it]"
     ]
    },
    {
     "name": "stdout",
     "output_type": "stream",
     "text": [
      "PERFORMANCE WARNING:\n",
      "Thresholded incomplete Cholesky decomposition failed due to insufficient positive-definiteness of matrix A with parameters:\n",
      "    discard_threshold = 1.000000e-04\n",
      "    shift = 0.000000e+00\n",
      "Try decreasing discard_threshold or start with a larger shift\n",
      "\n",
      "PERFORMANCE WARNING:\n",
      "Thresholded incomplete Cholesky decomposition failed due to insufficient positive-definiteness of matrix A with parameters:\n",
      "    discard_threshold = 1.000000e-04\n",
      "    shift = 1.000000e-04\n",
      "Try decreasing discard_threshold or start with a larger shift\n",
      "\n",
      "PERFORMANCE WARNING:\n",
      "Thresholded incomplete Cholesky decomposition failed due to insufficient positive-definiteness of matrix A with parameters:\n",
      "    discard_threshold = 1.000000e-04\n",
      "    shift = 1.000000e-03\n",
      "Try decreasing discard_threshold or start with a larger shift\n",
      "\n"
     ]
    },
    {
     "name": "stderr",
     "output_type": "stream",
     "text": [
      "Processing banh-uot: 100%|█████████▉| 839/841 [17:57<00:02,  1.27s/it]"
     ]
    },
    {
     "name": "stdout",
     "output_type": "stream",
     "text": [
      "PERFORMANCE WARNING:\n",
      "Thresholded incomplete Cholesky decomposition failed due to insufficient positive-definiteness of matrix A with parameters:\n",
      "    discard_threshold = 1.000000e-04\n",
      "    shift = 0.000000e+00\n",
      "Try decreasing discard_threshold or start with a larger shift\n",
      "\n",
      "PERFORMANCE WARNING:\n",
      "Thresholded incomplete Cholesky decomposition failed due to insufficient positive-definiteness of matrix A with parameters:\n",
      "    discard_threshold = 1.000000e-04\n",
      "    shift = 1.000000e-04\n",
      "Try decreasing discard_threshold or start with a larger shift\n",
      "\n",
      "PERFORMANCE WARNING:\n",
      "Thresholded incomplete Cholesky decomposition failed due to insufficient positive-definiteness of matrix A with parameters:\n",
      "    discard_threshold = 1.000000e-04\n",
      "    shift = 1.000000e-03\n",
      "Try decreasing discard_threshold or start with a larger shift\n",
      "\n"
     ]
    },
    {
     "name": "stderr",
     "output_type": "stream",
     "text": [
      "Processing banh-uot: 100%|██████████| 841/841 [18:01<00:00,  1.29s/it]\n",
      "Processing bap-nuong:  83%|████████▎ | 178/215 [03:39<00:41,  1.12s/it]"
     ]
    },
    {
     "name": "stdout",
     "output_type": "stream",
     "text": [
      "PERFORMANCE WARNING:\n",
      "Thresholded incomplete Cholesky decomposition failed due to insufficient positive-definiteness of matrix A with parameters:\n",
      "    discard_threshold = 1.000000e-04\n",
      "    shift = 0.000000e+00\n",
      "Try decreasing discard_threshold or start with a larger shift\n",
      "\n",
      "PERFORMANCE WARNING:\n",
      "Thresholded incomplete Cholesky decomposition failed due to insufficient positive-definiteness of matrix A with parameters:\n",
      "    discard_threshold = 1.000000e-04\n",
      "    shift = 1.000000e-04\n",
      "Try decreasing discard_threshold or start with a larger shift\n",
      "\n",
      "PERFORMANCE WARNING:\n",
      "Thresholded incomplete Cholesky decomposition failed due to insufficient positive-definiteness of matrix A with parameters:\n",
      "    discard_threshold = 1.000000e-04\n",
      "    shift = 1.000000e-03\n",
      "Try decreasing discard_threshold or start with a larger shift\n",
      "\n"
     ]
    },
    {
     "name": "stderr",
     "output_type": "stream",
     "text": [
      "Processing bap-nuong:  88%|████████▊ | 189/215 [03:51<00:28,  1.10s/it]"
     ]
    },
    {
     "name": "stdout",
     "output_type": "stream",
     "text": [
      "PERFORMANCE WARNING:\n",
      "Thresholded incomplete Cholesky decomposition failed due to insufficient positive-definiteness of matrix A with parameters:\n",
      "    discard_threshold = 1.000000e-04\n",
      "    shift = 0.000000e+00\n",
      "Try decreasing discard_threshold or start with a larger shift\n",
      "\n",
      "PERFORMANCE WARNING:\n",
      "Thresholded incomplete Cholesky decomposition failed due to insufficient positive-definiteness of matrix A with parameters:\n",
      "    discard_threshold = 1.000000e-04\n",
      "    shift = 1.000000e-04\n",
      "Try decreasing discard_threshold or start with a larger shift\n",
      "\n"
     ]
    },
    {
     "name": "stderr",
     "output_type": "stream",
     "text": [
      "Processing bap-nuong:  95%|█████████▍| 204/215 [04:09<00:13,  1.25s/it]"
     ]
    },
    {
     "name": "stdout",
     "output_type": "stream",
     "text": [
      "PERFORMANCE WARNING:\n",
      "Thresholded incomplete Cholesky decomposition failed due to insufficient positive-definiteness of matrix A with parameters:\n",
      "    discard_threshold = 1.000000e-04\n",
      "    shift = 0.000000e+00\n",
      "Try decreasing discard_threshold or start with a larger shift\n",
      "\n",
      "PERFORMANCE WARNING:\n",
      "Thresholded incomplete Cholesky decomposition failed due to insufficient positive-definiteness of matrix A with parameters:\n",
      "    discard_threshold = 1.000000e-04\n",
      "    shift = 1.000000e-04\n",
      "Try decreasing discard_threshold or start with a larger shift\n",
      "\n",
      "PERFORMANCE WARNING:\n",
      "Thresholded incomplete Cholesky decomposition failed due to insufficient positive-definiteness of matrix A with parameters:\n",
      "    discard_threshold = 1.000000e-04\n",
      "    shift = 1.000000e-03\n",
      "Try decreasing discard_threshold or start with a larger shift\n",
      "\n"
     ]
    },
    {
     "name": "stderr",
     "output_type": "stream",
     "text": [
      "Processing bap-nuong: 100%|██████████| 215/215 [04:23<00:00,  1.22s/it]\n",
      "Processing bo-kho:  86%|████████▌ | 437/509 [08:45<01:28,  1.23s/it]"
     ]
    },
    {
     "name": "stdout",
     "output_type": "stream",
     "text": [
      "PERFORMANCE WARNING:\n",
      "Thresholded incomplete Cholesky decomposition failed due to insufficient positive-definiteness of matrix A with parameters:\n",
      "    discard_threshold = 1.000000e-04\n",
      "    shift = 0.000000e+00\n",
      "Try decreasing discard_threshold or start with a larger shift\n",
      "\n",
      "PERFORMANCE WARNING:\n",
      "Thresholded incomplete Cholesky decomposition failed due to insufficient positive-definiteness of matrix A with parameters:\n",
      "    discard_threshold = 1.000000e-04\n",
      "    shift = 1.000000e-04\n",
      "Try decreasing discard_threshold or start with a larger shift\n",
      "\n",
      "PERFORMANCE WARNING:\n",
      "Thresholded incomplete Cholesky decomposition failed due to insufficient positive-definiteness of matrix A with parameters:\n",
      "    discard_threshold = 1.000000e-04\n",
      "    shift = 1.000000e-03\n",
      "Try decreasing discard_threshold or start with a larger shift\n",
      "\n"
     ]
    },
    {
     "name": "stderr",
     "output_type": "stream",
     "text": [
      "Processing bo-kho:  90%|█████████ | 460/509 [09:13<00:56,  1.15s/it]"
     ]
    },
    {
     "name": "stdout",
     "output_type": "stream",
     "text": [
      "PERFORMANCE WARNING:\n",
      "Thresholded incomplete Cholesky decomposition failed due to insufficient positive-definiteness of matrix A with parameters:\n",
      "    discard_threshold = 1.000000e-04\n",
      "    shift = 0.000000e+00\n",
      "Try decreasing discard_threshold or start with a larger shift\n",
      "\n",
      "PERFORMANCE WARNING:\n",
      "Thresholded incomplete Cholesky decomposition failed due to insufficient positive-definiteness of matrix A with parameters:\n",
      "    discard_threshold = 1.000000e-04\n",
      "    shift = 1.000000e-04\n",
      "Try decreasing discard_threshold or start with a larger shift\n",
      "\n"
     ]
    },
    {
     "name": "stderr",
     "output_type": "stream",
     "text": [
      "Processing bo-kho: 100%|█████████▉| 508/509 [10:08<00:01,  1.18s/it]"
     ]
    },
    {
     "name": "stdout",
     "output_type": "stream",
     "text": [
      "PERFORMANCE WARNING:\n",
      "Thresholded incomplete Cholesky decomposition failed due to insufficient positive-definiteness of matrix A with parameters:\n",
      "    discard_threshold = 1.000000e-04\n",
      "    shift = 0.000000e+00\n",
      "Try decreasing discard_threshold or start with a larger shift\n",
      "\n",
      "PERFORMANCE WARNING:\n",
      "Thresholded incomplete Cholesky decomposition failed due to insufficient positive-definiteness of matrix A with parameters:\n",
      "    discard_threshold = 1.000000e-04\n",
      "    shift = 1.000000e-04\n",
      "Try decreasing discard_threshold or start with a larger shift\n",
      "\n",
      "PERFORMANCE WARNING:\n",
      "Thresholded incomplete Cholesky decomposition failed due to insufficient positive-definiteness of matrix A with parameters:\n",
      "    discard_threshold = 1.000000e-04\n",
      "    shift = 1.000000e-03\n",
      "Try decreasing discard_threshold or start with a larger shift\n",
      "\n",
      "PERFORMANCE WARNING:\n",
      "Thresholded incomplete Cholesky decomposition failed due to insufficient positive-definiteness of matrix A with parameters:\n",
      "    discard_threshold = 1.000000e-04\n",
      "    shift = 1.000000e-02\n",
      "Try decreasing discard_threshold or start with a larger shift\n",
      "\n"
     ]
    },
    {
     "name": "stderr",
     "output_type": "stream",
     "text": [
      "Processing bo-kho: 100%|██████████| 509/509 [10:09<00:00,  1.20s/it]\n",
      "Processing bo-la-lot:  90%|█████████ | 623/689 [12:45<01:16,  1.17s/it]"
     ]
    },
    {
     "name": "stdout",
     "output_type": "stream",
     "text": [
      "PERFORMANCE WARNING:\n",
      "Thresholded incomplete Cholesky decomposition failed due to insufficient positive-definiteness of matrix A with parameters:\n",
      "    discard_threshold = 1.000000e-04\n",
      "    shift = 0.000000e+00\n",
      "Try decreasing discard_threshold or start with a larger shift\n",
      "\n",
      "PERFORMANCE WARNING:\n",
      "Thresholded incomplete Cholesky decomposition failed due to insufficient positive-definiteness of matrix A with parameters:\n",
      "    discard_threshold = 1.000000e-04\n",
      "    shift = 1.000000e-04\n",
      "Try decreasing discard_threshold or start with a larger shift\n",
      "\n"
     ]
    },
    {
     "name": "stderr",
     "output_type": "stream",
     "text": [
      "Processing bo-la-lot:  91%|█████████ | 626/689 [12:49<01:16,  1.21s/it]"
     ]
    },
    {
     "name": "stdout",
     "output_type": "stream",
     "text": [
      "PERFORMANCE WARNING:\n",
      "Thresholded incomplete Cholesky decomposition failed due to insufficient positive-definiteness of matrix A with parameters:\n",
      "    discard_threshold = 1.000000e-04\n",
      "    shift = 0.000000e+00\n",
      "Try decreasing discard_threshold or start with a larger shift\n",
      "\n",
      "PERFORMANCE WARNING:\n",
      "Thresholded incomplete Cholesky decomposition failed due to insufficient positive-definiteness of matrix A with parameters:\n",
      "    discard_threshold = 1.000000e-04\n",
      "    shift = 1.000000e-04\n",
      "Try decreasing discard_threshold or start with a larger shift\n",
      "\n",
      "PERFORMANCE WARNING:\n",
      "Thresholded incomplete Cholesky decomposition failed due to insufficient positive-definiteness of matrix A with parameters:\n",
      "    discard_threshold = 1.000000e-04\n",
      "    shift = 1.000000e-03\n",
      "Try decreasing discard_threshold or start with a larger shift\n",
      "\n",
      "PERFORMANCE WARNING:\n",
      "Thresholded incomplete Cholesky decomposition failed due to insufficient positive-definiteness of matrix A with parameters:\n",
      "    discard_threshold = 1.000000e-04\n",
      "    shift = 1.000000e-02\n",
      "Try decreasing discard_threshold or start with a larger shift\n",
      "\n"
     ]
    },
    {
     "name": "stderr",
     "output_type": "stream",
     "text": [
      "Processing bo-la-lot:  91%|█████████ | 627/689 [12:51<01:27,  1.42s/it]"
     ]
    },
    {
     "name": "stdout",
     "output_type": "stream",
     "text": [
      "PERFORMANCE WARNING:\n",
      "Thresholded incomplete Cholesky decomposition failed due to insufficient positive-definiteness of matrix A with parameters:\n",
      "    discard_threshold = 1.000000e-04\n",
      "    shift = 0.000000e+00\n",
      "Try decreasing discard_threshold or start with a larger shift\n",
      "\n",
      "PERFORMANCE WARNING:\n",
      "Thresholded incomplete Cholesky decomposition failed due to insufficient positive-definiteness of matrix A with parameters:\n",
      "    discard_threshold = 1.000000e-04\n",
      "    shift = 1.000000e-04\n",
      "Try decreasing discard_threshold or start with a larger shift\n",
      "\n",
      "PERFORMANCE WARNING:\n",
      "Thresholded incomplete Cholesky decomposition failed due to insufficient positive-definiteness of matrix A with parameters:\n",
      "    discard_threshold = 1.000000e-04\n",
      "    shift = 1.000000e-03\n",
      "Try decreasing discard_threshold or start with a larger shift\n",
      "\n"
     ]
    },
    {
     "name": "stderr",
     "output_type": "stream",
     "text": [
      "Processing bo-la-lot:  91%|█████████▏| 629/689 [12:54<01:21,  1.36s/it]"
     ]
    },
    {
     "name": "stdout",
     "output_type": "stream",
     "text": [
      "PERFORMANCE WARNING:\n",
      "Thresholded incomplete Cholesky decomposition failed due to insufficient positive-definiteness of matrix A with parameters:\n",
      "    discard_threshold = 1.000000e-04\n",
      "    shift = 0.000000e+00\n",
      "Try decreasing discard_threshold or start with a larger shift\n",
      "\n",
      "PERFORMANCE WARNING:\n",
      "Thresholded incomplete Cholesky decomposition failed due to insufficient positive-definiteness of matrix A with parameters:\n",
      "    discard_threshold = 1.000000e-04\n",
      "    shift = 1.000000e-04\n",
      "Try decreasing discard_threshold or start with a larger shift\n",
      "\n",
      "PERFORMANCE WARNING:\n",
      "Thresholded incomplete Cholesky decomposition failed due to insufficient positive-definiteness of matrix A with parameters:\n",
      "    discard_threshold = 1.000000e-04\n",
      "    shift = 1.000000e-03\n",
      "Try decreasing discard_threshold or start with a larger shift\n",
      "\n"
     ]
    },
    {
     "name": "stderr",
     "output_type": "stream",
     "text": [
      "Processing bo-la-lot:  93%|█████████▎| 641/689 [13:08<00:56,  1.18s/it]"
     ]
    },
    {
     "name": "stdout",
     "output_type": "stream",
     "text": [
      "PERFORMANCE WARNING:\n",
      "Thresholded incomplete Cholesky decomposition failed due to insufficient positive-definiteness of matrix A with parameters:\n",
      "    discard_threshold = 1.000000e-04\n",
      "    shift = 0.000000e+00\n",
      "Try decreasing discard_threshold or start with a larger shift\n",
      "\n",
      "PERFORMANCE WARNING:\n",
      "Thresholded incomplete Cholesky decomposition failed due to insufficient positive-definiteness of matrix A with parameters:\n",
      "    discard_threshold = 1.000000e-04\n",
      "    shift = 1.000000e-04\n",
      "Try decreasing discard_threshold or start with a larger shift\n",
      "\n",
      "PERFORMANCE WARNING:\n",
      "Thresholded incomplete Cholesky decomposition failed due to insufficient positive-definiteness of matrix A with parameters:\n",
      "    discard_threshold = 1.000000e-04\n",
      "    shift = 1.000000e-03\n",
      "Try decreasing discard_threshold or start with a larger shift\n",
      "\n"
     ]
    },
    {
     "name": "stderr",
     "output_type": "stream",
     "text": [
      "Processing bo-la-lot:  93%|█████████▎| 644/689 [13:12<00:51,  1.14s/it]"
     ]
    },
    {
     "name": "stdout",
     "output_type": "stream",
     "text": [
      "PERFORMANCE WARNING:\n",
      "Thresholded incomplete Cholesky decomposition failed due to insufficient positive-definiteness of matrix A with parameters:\n",
      "    discard_threshold = 1.000000e-04\n",
      "    shift = 0.000000e+00\n",
      "Try decreasing discard_threshold or start with a larger shift\n",
      "\n",
      "PERFORMANCE WARNING:\n",
      "Thresholded incomplete Cholesky decomposition failed due to insufficient positive-definiteness of matrix A with parameters:\n",
      "    discard_threshold = 1.000000e-04\n",
      "    shift = 1.000000e-04\n",
      "Try decreasing discard_threshold or start with a larger shift\n",
      "\n",
      "PERFORMANCE WARNING:\n",
      "Thresholded incomplete Cholesky decomposition failed due to insufficient positive-definiteness of matrix A with parameters:\n",
      "    discard_threshold = 1.000000e-04\n",
      "    shift = 1.000000e-03\n",
      "Try decreasing discard_threshold or start with a larger shift\n",
      "\n",
      "PERFORMANCE WARNING:\n",
      "Thresholded incomplete Cholesky decomposition failed due to insufficient positive-definiteness of matrix A with parameters:\n",
      "    discard_threshold = 1.000000e-04\n",
      "    shift = 1.000000e-02\n",
      "Try decreasing discard_threshold or start with a larger shift\n",
      "\n"
     ]
    },
    {
     "name": "stderr",
     "output_type": "stream",
     "text": [
      "Processing bo-la-lot:  96%|█████████▌| 662/689 [13:33<00:32,  1.19s/it]"
     ]
    },
    {
     "name": "stdout",
     "output_type": "stream",
     "text": [
      "PERFORMANCE WARNING:\n",
      "Thresholded incomplete Cholesky decomposition failed due to insufficient positive-definiteness of matrix A with parameters:\n",
      "    discard_threshold = 1.000000e-04\n",
      "    shift = 0.000000e+00\n",
      "Try decreasing discard_threshold or start with a larger shift\n",
      "\n",
      "PERFORMANCE WARNING:\n",
      "Thresholded incomplete Cholesky decomposition failed due to insufficient positive-definiteness of matrix A with parameters:\n",
      "    discard_threshold = 1.000000e-04\n",
      "    shift = 1.000000e-04\n",
      "Try decreasing discard_threshold or start with a larger shift\n",
      "\n",
      "PERFORMANCE WARNING:\n",
      "Thresholded incomplete Cholesky decomposition failed due to insufficient positive-definiteness of matrix A with parameters:\n",
      "    discard_threshold = 1.000000e-04\n",
      "    shift = 1.000000e-03\n",
      "Try decreasing discard_threshold or start with a larger shift\n",
      "\n"
     ]
    },
    {
     "name": "stderr",
     "output_type": "stream",
     "text": [
      "Processing bo-la-lot:  97%|█████████▋| 669/689 [13:42<00:22,  1.13s/it]"
     ]
    },
    {
     "name": "stdout",
     "output_type": "stream",
     "text": [
      "PERFORMANCE WARNING:\n",
      "Thresholded incomplete Cholesky decomposition failed due to insufficient positive-definiteness of matrix A with parameters:\n",
      "    discard_threshold = 1.000000e-04\n",
      "    shift = 0.000000e+00\n",
      "Try decreasing discard_threshold or start with a larger shift\n",
      "\n",
      "PERFORMANCE WARNING:\n",
      "Thresholded incomplete Cholesky decomposition failed due to insufficient positive-definiteness of matrix A with parameters:\n",
      "    discard_threshold = 1.000000e-04\n",
      "    shift = 1.000000e-04\n",
      "Try decreasing discard_threshold or start with a larger shift\n",
      "\n",
      "PERFORMANCE WARNING:\n",
      "Thresholded incomplete Cholesky decomposition failed due to insufficient positive-definiteness of matrix A with parameters:\n",
      "    discard_threshold = 1.000000e-04\n",
      "    shift = 1.000000e-03\n",
      "Try decreasing discard_threshold or start with a larger shift\n",
      "\n"
     ]
    },
    {
     "name": "stderr",
     "output_type": "stream",
     "text": [
      "Processing bo-la-lot:  99%|█████████▉| 683/689 [13:59<00:06,  1.17s/it]"
     ]
    },
    {
     "name": "stdout",
     "output_type": "stream",
     "text": [
      "PERFORMANCE WARNING:\n",
      "Thresholded incomplete Cholesky decomposition failed due to insufficient positive-definiteness of matrix A with parameters:\n",
      "    discard_threshold = 1.000000e-04\n",
      "    shift = 0.000000e+00\n",
      "Try decreasing discard_threshold or start with a larger shift\n",
      "\n",
      "PERFORMANCE WARNING:\n",
      "Thresholded incomplete Cholesky decomposition failed due to insufficient positive-definiteness of matrix A with parameters:\n",
      "    discard_threshold = 1.000000e-04\n",
      "    shift = 1.000000e-04\n",
      "Try decreasing discard_threshold or start with a larger shift\n",
      "\n",
      "PERFORMANCE WARNING:\n",
      "Thresholded incomplete Cholesky decomposition failed due to insufficient positive-definiteness of matrix A with parameters:\n",
      "    discard_threshold = 1.000000e-04\n",
      "    shift = 1.000000e-03\n",
      "Try decreasing discard_threshold or start with a larger shift\n",
      "\n"
     ]
    },
    {
     "name": "stderr",
     "output_type": "stream",
     "text": [
      "Processing bo-la-lot: 100%|█████████▉| 686/689 [14:03<00:03,  1.32s/it]"
     ]
    },
    {
     "name": "stdout",
     "output_type": "stream",
     "text": [
      "PERFORMANCE WARNING:\n",
      "Thresholded incomplete Cholesky decomposition failed due to insufficient positive-definiteness of matrix A with parameters:\n",
      "    discard_threshold = 1.000000e-04\n",
      "    shift = 0.000000e+00\n",
      "Try decreasing discard_threshold or start with a larger shift\n",
      "\n",
      "PERFORMANCE WARNING:\n",
      "Thresholded incomplete Cholesky decomposition failed due to insufficient positive-definiteness of matrix A with parameters:\n",
      "    discard_threshold = 1.000000e-04\n",
      "    shift = 1.000000e-04\n",
      "Try decreasing discard_threshold or start with a larger shift\n",
      "\n",
      "PERFORMANCE WARNING:\n",
      "Thresholded incomplete Cholesky decomposition failed due to insufficient positive-definiteness of matrix A with parameters:\n",
      "    discard_threshold = 1.000000e-04\n",
      "    shift = 1.000000e-03\n",
      "Try decreasing discard_threshold or start with a larger shift\n",
      "\n",
      "PERFORMANCE WARNING:\n",
      "Thresholded incomplete Cholesky decomposition failed due to insufficient positive-definiteness of matrix A with parameters:\n",
      "    discard_threshold = 1.000000e-04\n",
      "    shift = 1.000000e-02\n",
      "Try decreasing discard_threshold or start with a larger shift\n",
      "\n"
     ]
    },
    {
     "name": "stderr",
     "output_type": "stream",
     "text": [
      "Processing bo-la-lot: 100%|██████████| 689/689 [14:07<00:00,  1.23s/it]\n",
      "Processing bot-chien:  94%|█████████▍| 391/415 [07:35<00:27,  1.16s/it]"
     ]
    },
    {
     "name": "stdout",
     "output_type": "stream",
     "text": [
      "PERFORMANCE WARNING:\n",
      "Thresholded incomplete Cholesky decomposition failed due to insufficient positive-definiteness of matrix A with parameters:\n",
      "    discard_threshold = 1.000000e-04\n",
      "    shift = 0.000000e+00\n",
      "Try decreasing discard_threshold or start with a larger shift\n",
      "\n",
      "PERFORMANCE WARNING:\n",
      "Thresholded incomplete Cholesky decomposition failed due to insufficient positive-definiteness of matrix A with parameters:\n",
      "    discard_threshold = 1.000000e-04\n",
      "    shift = 1.000000e-04\n",
      "Try decreasing discard_threshold or start with a larger shift\n",
      "\n",
      "PERFORMANCE WARNING:\n",
      "Thresholded incomplete Cholesky decomposition failed due to insufficient positive-definiteness of matrix A with parameters:\n",
      "    discard_threshold = 1.000000e-04\n",
      "    shift = 1.000000e-03\n",
      "Try decreasing discard_threshold or start with a larger shift\n",
      "\n"
     ]
    },
    {
     "name": "stderr",
     "output_type": "stream",
     "text": [
      "Processing bot-chien:  97%|█████████▋| 404/415 [07:51<00:13,  1.23s/it]"
     ]
    },
    {
     "name": "stdout",
     "output_type": "stream",
     "text": [
      "PERFORMANCE WARNING:\n",
      "Thresholded incomplete Cholesky decomposition failed due to insufficient positive-definiteness of matrix A with parameters:\n",
      "    discard_threshold = 1.000000e-04\n",
      "    shift = 0.000000e+00\n",
      "Try decreasing discard_threshold or start with a larger shift\n",
      "\n",
      "PERFORMANCE WARNING:\n",
      "Thresholded incomplete Cholesky decomposition failed due to insufficient positive-definiteness of matrix A with parameters:\n",
      "    discard_threshold = 1.000000e-04\n",
      "    shift = 1.000000e-04\n",
      "Try decreasing discard_threshold or start with a larger shift\n",
      "\n"
     ]
    },
    {
     "name": "stderr",
     "output_type": "stream",
     "text": [
      "Processing bot-chien: 100%|██████████| 415/415 [08:04<00:00,  1.17s/it]\n",
      "Processing ca-ri:  53%|█████▎    | 138/258 [02:39<02:20,  1.17s/it]"
     ]
    },
    {
     "name": "stdout",
     "output_type": "stream",
     "text": [
      "PERFORMANCE WARNING:\n",
      "Thresholded incomplete Cholesky decomposition failed due to insufficient positive-definiteness of matrix A with parameters:\n",
      "    discard_threshold = 1.000000e-04\n",
      "    shift = 0.000000e+00\n",
      "Try decreasing discard_threshold or start with a larger shift\n",
      "\n",
      "PERFORMANCE WARNING:\n",
      "Thresholded incomplete Cholesky decomposition failed due to insufficient positive-definiteness of matrix A with parameters:\n",
      "    discard_threshold = 1.000000e-04\n",
      "    shift = 1.000000e-04\n",
      "Try decreasing discard_threshold or start with a larger shift\n",
      "\n",
      "PERFORMANCE WARNING:\n",
      "Thresholded incomplete Cholesky decomposition failed due to insufficient positive-definiteness of matrix A with parameters:\n",
      "    discard_threshold = 1.000000e-04\n",
      "    shift = 1.000000e-03\n",
      "Try decreasing discard_threshold or start with a larger shift\n",
      "\n"
     ]
    },
    {
     "name": "stderr",
     "output_type": "stream",
     "text": [
      "Processing ca-ri:  94%|█████████▍| 243/258 [04:40<00:16,  1.13s/it]"
     ]
    },
    {
     "name": "stdout",
     "output_type": "stream",
     "text": [
      "PERFORMANCE WARNING:\n",
      "Thresholded incomplete Cholesky decomposition failed due to insufficient positive-definiteness of matrix A with parameters:\n",
      "    discard_threshold = 1.000000e-04\n",
      "    shift = 0.000000e+00\n",
      "Try decreasing discard_threshold or start with a larger shift\n",
      "\n",
      "PERFORMANCE WARNING:\n",
      "Thresholded incomplete Cholesky decomposition failed due to insufficient positive-definiteness of matrix A with parameters:\n",
      "    discard_threshold = 1.000000e-04\n",
      "    shift = 1.000000e-04\n",
      "Try decreasing discard_threshold or start with a larger shift\n",
      "\n",
      "PERFORMANCE WARNING:\n",
      "Thresholded incomplete Cholesky decomposition failed due to insufficient positive-definiteness of matrix A with parameters:\n",
      "    discard_threshold = 1.000000e-04\n",
      "    shift = 1.000000e-03\n",
      "Try decreasing discard_threshold or start with a larger shift\n",
      "\n",
      "PERFORMANCE WARNING:\n",
      "Thresholded incomplete Cholesky decomposition failed due to insufficient positive-definiteness of matrix A with parameters:\n",
      "    discard_threshold = 1.000000e-04\n",
      "    shift = 1.000000e-02\n",
      "Try decreasing discard_threshold or start with a larger shift\n",
      "\n"
     ]
    },
    {
     "name": "stderr",
     "output_type": "stream",
     "text": [
      "Processing ca-ri: 100%|██████████| 258/258 [04:57<00:00,  1.15s/it]\n",
      "Processing canh-kho-qua:  21%|██        | 90/436 [01:49<06:47,  1.18s/it]"
     ]
    },
    {
     "name": "stdout",
     "output_type": "stream",
     "text": [
      "PERFORMANCE WARNING:\n",
      "Thresholded incomplete Cholesky decomposition failed due to insufficient positive-definiteness of matrix A with parameters:\n",
      "    discard_threshold = 1.000000e-04\n",
      "    shift = 0.000000e+00\n",
      "Try decreasing discard_threshold or start with a larger shift\n",
      "\n"
     ]
    },
    {
     "name": "stderr",
     "output_type": "stream",
     "text": [
      "Processing canh-kho-qua:  77%|███████▋  | 334/436 [06:40<02:15,  1.33s/it]"
     ]
    },
    {
     "name": "stdout",
     "output_type": "stream",
     "text": [
      "PERFORMANCE WARNING:\n",
      "Thresholded incomplete Cholesky decomposition failed due to insufficient positive-definiteness of matrix A with parameters:\n",
      "    discard_threshold = 1.000000e-04\n",
      "    shift = 0.000000e+00\n",
      "Try decreasing discard_threshold or start with a larger shift\n",
      "\n",
      "PERFORMANCE WARNING:\n",
      "Thresholded incomplete Cholesky decomposition failed due to insufficient positive-definiteness of matrix A with parameters:\n",
      "    discard_threshold = 1.000000e-04\n",
      "    shift = 1.000000e-04\n",
      "Try decreasing discard_threshold or start with a larger shift\n",
      "\n",
      "PERFORMANCE WARNING:\n",
      "Thresholded incomplete Cholesky decomposition failed due to insufficient positive-definiteness of matrix A with parameters:\n",
      "    discard_threshold = 1.000000e-04\n",
      "    shift = 1.000000e-03\n",
      "Try decreasing discard_threshold or start with a larger shift\n",
      "\n"
     ]
    },
    {
     "name": "stderr",
     "output_type": "stream",
     "text": [
      "Processing canh-kho-qua:  80%|███████▉  | 347/436 [06:56<01:46,  1.19s/it]"
     ]
    },
    {
     "name": "stdout",
     "output_type": "stream",
     "text": [
      "PERFORMANCE WARNING:\n",
      "Thresholded incomplete Cholesky decomposition failed due to insufficient positive-definiteness of matrix A with parameters:\n",
      "    discard_threshold = 1.000000e-04\n",
      "    shift = 0.000000e+00\n",
      "Try decreasing discard_threshold or start with a larger shift\n",
      "\n",
      "PERFORMANCE WARNING:\n",
      "Thresholded incomplete Cholesky decomposition failed due to insufficient positive-definiteness of matrix A with parameters:\n",
      "    discard_threshold = 1.000000e-04\n",
      "    shift = 1.000000e-04\n",
      "Try decreasing discard_threshold or start with a larger shift\n",
      "\n",
      "PERFORMANCE WARNING:\n",
      "Thresholded incomplete Cholesky decomposition failed due to insufficient positive-definiteness of matrix A with parameters:\n",
      "    discard_threshold = 1.000000e-04\n",
      "    shift = 1.000000e-03\n",
      "Try decreasing discard_threshold or start with a larger shift\n",
      "\n"
     ]
    },
    {
     "name": "stderr",
     "output_type": "stream",
     "text": [
      "Processing canh-kho-qua:  84%|████████▍ | 366/436 [07:18<01:16,  1.10s/it]"
     ]
    },
    {
     "name": "stdout",
     "output_type": "stream",
     "text": [
      "PERFORMANCE WARNING:\n",
      "Thresholded incomplete Cholesky decomposition failed due to insufficient positive-definiteness of matrix A with parameters:\n",
      "    discard_threshold = 1.000000e-04\n",
      "    shift = 0.000000e+00\n",
      "Try decreasing discard_threshold or start with a larger shift\n",
      "\n",
      "PERFORMANCE WARNING:\n",
      "Thresholded incomplete Cholesky decomposition failed due to insufficient positive-definiteness of matrix A with parameters:\n",
      "    discard_threshold = 1.000000e-04\n",
      "    shift = 1.000000e-04\n",
      "Try decreasing discard_threshold or start with a larger shift\n",
      "\n",
      "PERFORMANCE WARNING:\n",
      "Thresholded incomplete Cholesky decomposition failed due to insufficient positive-definiteness of matrix A with parameters:\n",
      "    discard_threshold = 1.000000e-04\n",
      "    shift = 1.000000e-03\n",
      "Try decreasing discard_threshold or start with a larger shift\n",
      "\n"
     ]
    },
    {
     "name": "stderr",
     "output_type": "stream",
     "text": [
      "Processing canh-kho-qua:  91%|█████████ | 395/436 [07:54<00:52,  1.29s/it]"
     ]
    },
    {
     "name": "stdout",
     "output_type": "stream",
     "text": [
      "PERFORMANCE WARNING:\n",
      "Thresholded incomplete Cholesky decomposition failed due to insufficient positive-definiteness of matrix A with parameters:\n",
      "    discard_threshold = 1.000000e-04\n",
      "    shift = 0.000000e+00\n",
      "Try decreasing discard_threshold or start with a larger shift\n",
      "\n",
      "PERFORMANCE WARNING:\n",
      "Thresholded incomplete Cholesky decomposition failed due to insufficient positive-definiteness of matrix A with parameters:\n",
      "    discard_threshold = 1.000000e-04\n",
      "    shift = 1.000000e-04\n",
      "Try decreasing discard_threshold or start with a larger shift\n",
      "\n",
      "PERFORMANCE WARNING:\n",
      "Thresholded incomplete Cholesky decomposition failed due to insufficient positive-definiteness of matrix A with parameters:\n",
      "    discard_threshold = 1.000000e-04\n",
      "    shift = 1.000000e-03\n",
      "Try decreasing discard_threshold or start with a larger shift\n",
      "\n",
      "PERFORMANCE WARNING:\n",
      "Thresholded incomplete Cholesky decomposition failed due to insufficient positive-definiteness of matrix A with parameters:\n",
      "    discard_threshold = 1.000000e-04\n",
      "    shift = 1.000000e-02\n",
      "Try decreasing discard_threshold or start with a larger shift\n",
      "\n"
     ]
    },
    {
     "name": "stderr",
     "output_type": "stream",
     "text": [
      "Processing canh-kho-qua:  94%|█████████▎| 408/436 [08:11<00:37,  1.33s/it]"
     ]
    },
    {
     "name": "stdout",
     "output_type": "stream",
     "text": [
      "PERFORMANCE WARNING:\n",
      "Thresholded incomplete Cholesky decomposition failed due to insufficient positive-definiteness of matrix A with parameters:\n",
      "    discard_threshold = 1.000000e-04\n",
      "    shift = 0.000000e+00\n",
      "Try decreasing discard_threshold or start with a larger shift\n",
      "\n",
      "PERFORMANCE WARNING:\n",
      "Thresholded incomplete Cholesky decomposition failed due to insufficient positive-definiteness of matrix A with parameters:\n",
      "    discard_threshold = 1.000000e-04\n",
      "    shift = 1.000000e-04\n",
      "Try decreasing discard_threshold or start with a larger shift\n",
      "\n",
      "PERFORMANCE WARNING:\n",
      "Thresholded incomplete Cholesky decomposition failed due to insufficient positive-definiteness of matrix A with parameters:\n",
      "    discard_threshold = 1.000000e-04\n",
      "    shift = 1.000000e-03\n",
      "Try decreasing discard_threshold or start with a larger shift\n",
      "\n"
     ]
    },
    {
     "name": "stderr",
     "output_type": "stream",
     "text": [
      "Processing canh-kho-qua:  97%|█████████▋| 425/436 [08:34<00:15,  1.40s/it]"
     ]
    },
    {
     "name": "stdout",
     "output_type": "stream",
     "text": [
      "PERFORMANCE WARNING:\n",
      "Thresholded incomplete Cholesky decomposition failed due to insufficient positive-definiteness of matrix A with parameters:\n",
      "    discard_threshold = 1.000000e-04\n",
      "    shift = 0.000000e+00\n",
      "Try decreasing discard_threshold or start with a larger shift\n",
      "\n",
      "PERFORMANCE WARNING:\n",
      "Thresholded incomplete Cholesky decomposition failed due to insufficient positive-definiteness of matrix A with parameters:\n",
      "    discard_threshold = 1.000000e-04\n",
      "    shift = 1.000000e-04\n",
      "Try decreasing discard_threshold or start with a larger shift\n",
      "\n",
      "PERFORMANCE WARNING:\n",
      "Thresholded incomplete Cholesky decomposition failed due to insufficient positive-definiteness of matrix A with parameters:\n",
      "    discard_threshold = 1.000000e-04\n",
      "    shift = 1.000000e-03\n",
      "Try decreasing discard_threshold or start with a larger shift\n",
      "\n",
      "PERFORMANCE WARNING:\n",
      "Thresholded incomplete Cholesky decomposition failed due to insufficient positive-definiteness of matrix A with parameters:\n",
      "    discard_threshold = 1.000000e-04\n",
      "    shift = 1.000000e-02\n",
      "Try decreasing discard_threshold or start with a larger shift\n",
      "\n"
     ]
    },
    {
     "name": "stderr",
     "output_type": "stream",
     "text": [
      "Processing canh-kho-qua: 100%|██████████| 436/436 [08:49<00:00,  1.21s/it]\n",
      "Processing canh-khoai-mo:  91%|█████████ | 269/296 [05:22<00:32,  1.20s/it]"
     ]
    },
    {
     "name": "stdout",
     "output_type": "stream",
     "text": [
      "PERFORMANCE WARNING:\n",
      "Thresholded incomplete Cholesky decomposition failed due to insufficient positive-definiteness of matrix A with parameters:\n",
      "    discard_threshold = 1.000000e-04\n",
      "    shift = 0.000000e+00\n",
      "Try decreasing discard_threshold or start with a larger shift\n",
      "\n",
      "PERFORMANCE WARNING:\n",
      "Thresholded incomplete Cholesky decomposition failed due to insufficient positive-definiteness of matrix A with parameters:\n",
      "    discard_threshold = 1.000000e-04\n",
      "    shift = 1.000000e-04\n",
      "Try decreasing discard_threshold or start with a larger shift\n",
      "\n",
      "PERFORMANCE WARNING:\n",
      "Thresholded incomplete Cholesky decomposition failed due to insufficient positive-definiteness of matrix A with parameters:\n",
      "    discard_threshold = 1.000000e-04\n",
      "    shift = 1.000000e-03\n",
      "Try decreasing discard_threshold or start with a larger shift\n",
      "\n"
     ]
    },
    {
     "name": "stderr",
     "output_type": "stream",
     "text": [
      "Processing canh-khoai-mo:  98%|█████████▊| 289/296 [05:47<00:08,  1.21s/it]"
     ]
    },
    {
     "name": "stdout",
     "output_type": "stream",
     "text": [
      "PERFORMANCE WARNING:\n",
      "Thresholded incomplete Cholesky decomposition failed due to insufficient positive-definiteness of matrix A with parameters:\n",
      "    discard_threshold = 1.000000e-04\n",
      "    shift = 0.000000e+00\n",
      "Try decreasing discard_threshold or start with a larger shift\n",
      "\n",
      "PERFORMANCE WARNING:\n",
      "Thresholded incomplete Cholesky decomposition failed due to insufficient positive-definiteness of matrix A with parameters:\n",
      "    discard_threshold = 1.000000e-04\n",
      "    shift = 1.000000e-04\n",
      "Try decreasing discard_threshold or start with a larger shift\n",
      "\n"
     ]
    },
    {
     "name": "stderr",
     "output_type": "stream",
     "text": [
      "Processing canh-khoai-mo: 100%|██████████| 296/296 [05:56<00:00,  1.20s/it]\n",
      "Processing ga-nuong:  26%|██▋       | 147/560 [03:02<08:40,  1.26s/it]"
     ]
    },
    {
     "name": "stdout",
     "output_type": "stream",
     "text": [
      "PERFORMANCE WARNING:\n",
      "Thresholded incomplete Cholesky decomposition failed due to insufficient positive-definiteness of matrix A with parameters:\n",
      "    discard_threshold = 1.000000e-04\n",
      "    shift = 0.000000e+00\n",
      "Try decreasing discard_threshold or start with a larger shift\n",
      "\n"
     ]
    },
    {
     "name": "stderr",
     "output_type": "stream",
     "text": [
      "Processing ga-nuong:  94%|█████████▍| 528/560 [11:04<00:41,  1.28s/it]"
     ]
    },
    {
     "name": "stdout",
     "output_type": "stream",
     "text": [
      "PERFORMANCE WARNING:\n",
      "Thresholded incomplete Cholesky decomposition failed due to insufficient positive-definiteness of matrix A with parameters:\n",
      "    discard_threshold = 1.000000e-04\n",
      "    shift = 0.000000e+00\n",
      "Try decreasing discard_threshold or start with a larger shift\n",
      "\n",
      "PERFORMANCE WARNING:\n",
      "Thresholded incomplete Cholesky decomposition failed due to insufficient positive-definiteness of matrix A with parameters:\n",
      "    discard_threshold = 1.000000e-04\n",
      "    shift = 1.000000e-04\n",
      "Try decreasing discard_threshold or start with a larger shift\n",
      "\n"
     ]
    },
    {
     "name": "stderr",
     "output_type": "stream",
     "text": [
      "Processing ga-nuong:  97%|█████████▋| 545/560 [11:26<00:20,  1.35s/it]"
     ]
    },
    {
     "name": "stdout",
     "output_type": "stream",
     "text": [
      "PERFORMANCE WARNING:\n",
      "Thresholded incomplete Cholesky decomposition failed due to insufficient positive-definiteness of matrix A with parameters:\n",
      "    discard_threshold = 1.000000e-04\n",
      "    shift = 0.000000e+00\n",
      "Try decreasing discard_threshold or start with a larger shift\n",
      "\n",
      "PERFORMANCE WARNING:\n",
      "Thresholded incomplete Cholesky decomposition failed due to insufficient positive-definiteness of matrix A with parameters:\n",
      "    discard_threshold = 1.000000e-04\n",
      "    shift = 1.000000e-04\n",
      "Try decreasing discard_threshold or start with a larger shift\n",
      "\n",
      "PERFORMANCE WARNING:\n",
      "Thresholded incomplete Cholesky decomposition failed due to insufficient positive-definiteness of matrix A with parameters:\n",
      "    discard_threshold = 1.000000e-04\n",
      "    shift = 1.000000e-03\n",
      "Try decreasing discard_threshold or start with a larger shift\n",
      "\n",
      "PERFORMANCE WARNING:\n",
      "Thresholded incomplete Cholesky decomposition failed due to insufficient positive-definiteness of matrix A with parameters:\n",
      "    discard_threshold = 1.000000e-04\n",
      "    shift = 1.000000e-02\n",
      "Try decreasing discard_threshold or start with a larger shift\n",
      "\n"
     ]
    },
    {
     "name": "stderr",
     "output_type": "stream",
     "text": [
      "Processing ga-nuong: 100%|██████████| 560/560 [11:46<00:00,  1.26s/it]\n",
      "Processing goi-ga:   5%|▌         | 22/436 [00:27<08:33,  1.24s/it]"
     ]
    },
    {
     "name": "stdout",
     "output_type": "stream",
     "text": [
      "PERFORMANCE WARNING:\n",
      "Thresholded incomplete Cholesky decomposition failed due to insufficient positive-definiteness of matrix A with parameters:\n",
      "    discard_threshold = 1.000000e-04\n",
      "    shift = 0.000000e+00\n",
      "Try decreasing discard_threshold or start with a larger shift\n",
      "\n",
      "PERFORMANCE WARNING:\n",
      "Thresholded incomplete Cholesky decomposition failed due to insufficient positive-definiteness of matrix A with parameters:\n",
      "    discard_threshold = 1.000000e-04\n",
      "    shift = 1.000000e-04\n",
      "Try decreasing discard_threshold or start with a larger shift\n",
      "\n"
     ]
    },
    {
     "name": "stderr",
     "output_type": "stream",
     "text": [
      "Processing goi-ga:   7%|▋         | 30/436 [00:38<08:48,  1.30s/it]"
     ]
    },
    {
     "name": "stdout",
     "output_type": "stream",
     "text": [
      "PERFORMANCE WARNING:\n",
      "Thresholded incomplete Cholesky decomposition failed due to insufficient positive-definiteness of matrix A with parameters:\n",
      "    discard_threshold = 1.000000e-04\n",
      "    shift = 0.000000e+00\n",
      "Try decreasing discard_threshold or start with a larger shift\n",
      "\n",
      "PERFORMANCE WARNING:\n",
      "Thresholded incomplete Cholesky decomposition failed due to insufficient positive-definiteness of matrix A with parameters:\n",
      "    discard_threshold = 1.000000e-04\n",
      "    shift = 1.000000e-04\n",
      "Try decreasing discard_threshold or start with a larger shift\n",
      "\n",
      "PERFORMANCE WARNING:\n",
      "Thresholded incomplete Cholesky decomposition failed due to insufficient positive-definiteness of matrix A with parameters:\n",
      "    discard_threshold = 1.000000e-04\n",
      "    shift = 1.000000e-03\n",
      "Try decreasing discard_threshold or start with a larger shift\n",
      "\n"
     ]
    },
    {
     "name": "stderr",
     "output_type": "stream",
     "text": [
      "Processing goi-ga:  15%|█▌        | 66/436 [01:24<08:11,  1.33s/it]"
     ]
    },
    {
     "name": "stdout",
     "output_type": "stream",
     "text": [
      "PERFORMANCE WARNING:\n",
      "Thresholded incomplete Cholesky decomposition failed due to insufficient positive-definiteness of matrix A with parameters:\n",
      "    discard_threshold = 1.000000e-04\n",
      "    shift = 0.000000e+00\n",
      "Try decreasing discard_threshold or start with a larger shift\n",
      "\n"
     ]
    },
    {
     "name": "stderr",
     "output_type": "stream",
     "text": [
      "Processing goi-ga:  94%|█████████▍| 410/436 [08:32<00:31,  1.22s/it]"
     ]
    },
    {
     "name": "stdout",
     "output_type": "stream",
     "text": [
      "PERFORMANCE WARNING:\n",
      "Thresholded incomplete Cholesky decomposition failed due to insufficient positive-definiteness of matrix A with parameters:\n",
      "    discard_threshold = 1.000000e-04\n",
      "    shift = 0.000000e+00\n",
      "Try decreasing discard_threshold or start with a larger shift\n",
      "\n",
      "PERFORMANCE WARNING:\n",
      "Thresholded incomplete Cholesky decomposition failed due to insufficient positive-definiteness of matrix A with parameters:\n",
      "    discard_threshold = 1.000000e-04\n",
      "    shift = 1.000000e-04\n",
      "Try decreasing discard_threshold or start with a larger shift\n",
      "\n",
      "PERFORMANCE WARNING:\n",
      "Thresholded incomplete Cholesky decomposition failed due to insufficient positive-definiteness of matrix A with parameters:\n",
      "    discard_threshold = 1.000000e-04\n",
      "    shift = 1.000000e-03\n",
      "Try decreasing discard_threshold or start with a larger shift\n",
      "\n"
     ]
    },
    {
     "name": "stderr",
     "output_type": "stream",
     "text": [
      "Processing goi-ga:  94%|█████████▍| 411/436 [08:33<00:29,  1.18s/it]"
     ]
    },
    {
     "name": "stdout",
     "output_type": "stream",
     "text": [
      "PERFORMANCE WARNING:\n",
      "Thresholded incomplete Cholesky decomposition failed due to insufficient positive-definiteness of matrix A with parameters:\n",
      "    discard_threshold = 1.000000e-04\n",
      "    shift = 0.000000e+00\n",
      "Try decreasing discard_threshold or start with a larger shift\n",
      "\n",
      "PERFORMANCE WARNING:\n",
      "Thresholded incomplete Cholesky decomposition failed due to insufficient positive-definiteness of matrix A with parameters:\n",
      "    discard_threshold = 1.000000e-04\n",
      "    shift = 1.000000e-04\n",
      "Try decreasing discard_threshold or start with a larger shift\n",
      "\n",
      "PERFORMANCE WARNING:\n",
      "Thresholded incomplete Cholesky decomposition failed due to insufficient positive-definiteness of matrix A with parameters:\n",
      "    discard_threshold = 1.000000e-04\n",
      "    shift = 1.000000e-03\n",
      "Try decreasing discard_threshold or start with a larger shift\n",
      "\n",
      "PERFORMANCE WARNING:\n",
      "Thresholded incomplete Cholesky decomposition failed due to insufficient positive-definiteness of matrix A with parameters:\n",
      "    discard_threshold = 1.000000e-04\n",
      "    shift = 1.000000e-02\n",
      "Try decreasing discard_threshold or start with a larger shift\n",
      "\n"
     ]
    },
    {
     "name": "stderr",
     "output_type": "stream",
     "text": [
      "Processing goi-ga:  97%|█████████▋| 423/436 [08:48<00:16,  1.25s/it]"
     ]
    },
    {
     "name": "stdout",
     "output_type": "stream",
     "text": [
      "PERFORMANCE WARNING:\n",
      "Thresholded incomplete Cholesky decomposition failed due to insufficient positive-definiteness of matrix A with parameters:\n",
      "    discard_threshold = 1.000000e-04\n",
      "    shift = 0.000000e+00\n",
      "Try decreasing discard_threshold or start with a larger shift\n",
      "\n",
      "PERFORMANCE WARNING:\n",
      "Thresholded incomplete Cholesky decomposition failed due to insufficient positive-definiteness of matrix A with parameters:\n",
      "    discard_threshold = 1.000000e-04\n",
      "    shift = 1.000000e-04\n",
      "Try decreasing discard_threshold or start with a larger shift\n",
      "\n",
      "PERFORMANCE WARNING:\n",
      "Thresholded incomplete Cholesky decomposition failed due to insufficient positive-definiteness of matrix A with parameters:\n",
      "    discard_threshold = 1.000000e-04\n",
      "    shift = 1.000000e-03\n",
      "Try decreasing discard_threshold or start with a larger shift\n",
      "\n"
     ]
    },
    {
     "name": "stderr",
     "output_type": "stream",
     "text": [
      "Processing goi-ga: 100%|█████████▉| 434/436 [09:02<00:02,  1.17s/it]"
     ]
    },
    {
     "name": "stdout",
     "output_type": "stream",
     "text": [
      "PERFORMANCE WARNING:\n",
      "Thresholded incomplete Cholesky decomposition failed due to insufficient positive-definiteness of matrix A with parameters:\n",
      "    discard_threshold = 1.000000e-04\n",
      "    shift = 0.000000e+00\n",
      "Try decreasing discard_threshold or start with a larger shift\n",
      "\n",
      "PERFORMANCE WARNING:\n",
      "Thresholded incomplete Cholesky decomposition failed due to insufficient positive-definiteness of matrix A with parameters:\n",
      "    discard_threshold = 1.000000e-04\n",
      "    shift = 1.000000e-04\n",
      "Try decreasing discard_threshold or start with a larger shift\n",
      "\n"
     ]
    },
    {
     "name": "stderr",
     "output_type": "stream",
     "text": [
      "Processing goi-ga: 100%|██████████| 436/436 [09:04<00:00,  1.25s/it]\n",
      "Processing ha-cao:  51%|█████     | 364/720 [07:27<06:26,  1.09s/it]"
     ]
    },
    {
     "name": "stdout",
     "output_type": "stream",
     "text": [
      "PERFORMANCE WARNING:\n",
      "Thresholded incomplete Cholesky decomposition failed due to insufficient positive-definiteness of matrix A with parameters:\n",
      "    discard_threshold = 1.000000e-04\n",
      "    shift = 0.000000e+00\n",
      "Try decreasing discard_threshold or start with a larger shift\n",
      "\n"
     ]
    },
    {
     "name": "stderr",
     "output_type": "stream",
     "text": [
      "Processing ha-cao: 100%|██████████| 720/720 [14:42<00:00,  1.23s/it]\n",
      "Processing hoanh-thanh-nuoc:   2%|▏         | 7/361 [00:08<06:52,  1.17s/it]"
     ]
    },
    {
     "name": "stdout",
     "output_type": "stream",
     "text": [
      "PERFORMANCE WARNING:\n",
      "Thresholded incomplete Cholesky decomposition failed due to insufficient positive-definiteness of matrix A with parameters:\n",
      "    discard_threshold = 1.000000e-04\n",
      "    shift = 0.000000e+00\n",
      "Try decreasing discard_threshold or start with a larger shift\n",
      "\n",
      "PERFORMANCE WARNING:\n",
      "Thresholded incomplete Cholesky decomposition failed due to insufficient positive-definiteness of matrix A with parameters:\n",
      "    discard_threshold = 1.000000e-04\n",
      "    shift = 1.000000e-04\n",
      "Try decreasing discard_threshold or start with a larger shift\n",
      "\n",
      "PERFORMANCE WARNING:\n",
      "Thresholded incomplete Cholesky decomposition failed due to insufficient positive-definiteness of matrix A with parameters:\n",
      "    discard_threshold = 1.000000e-04\n",
      "    shift = 1.000000e-03\n",
      "Try decreasing discard_threshold or start with a larger shift\n",
      "\n"
     ]
    },
    {
     "name": "stderr",
     "output_type": "stream",
     "text": [
      "Processing hoanh-thanh-nuoc:  10%|█         | 37/361 [00:43<06:01,  1.12s/it]"
     ]
    },
    {
     "name": "stdout",
     "output_type": "stream",
     "text": [
      "PERFORMANCE WARNING:\n",
      "Thresholded incomplete Cholesky decomposition failed due to insufficient positive-definiteness of matrix A with parameters:\n",
      "    discard_threshold = 1.000000e-04\n",
      "    shift = 0.000000e+00\n",
      "Try decreasing discard_threshold or start with a larger shift\n",
      "\n",
      "PERFORMANCE WARNING:\n",
      "Thresholded incomplete Cholesky decomposition failed due to insufficient positive-definiteness of matrix A with parameters:\n",
      "    discard_threshold = 1.000000e-04\n",
      "    shift = 1.000000e-04\n",
      "Try decreasing discard_threshold or start with a larger shift\n",
      "\n",
      "PERFORMANCE WARNING:\n",
      "Thresholded incomplete Cholesky decomposition failed due to insufficient positive-definiteness of matrix A with parameters:\n",
      "    discard_threshold = 1.000000e-04\n",
      "    shift = 1.000000e-03\n",
      "Try decreasing discard_threshold or start with a larger shift\n",
      "\n"
     ]
    },
    {
     "name": "stderr",
     "output_type": "stream",
     "text": [
      "Processing hoanh-thanh-nuoc:  65%|██████▍   | 233/361 [04:41<02:28,  1.16s/it]"
     ]
    },
    {
     "name": "stdout",
     "output_type": "stream",
     "text": [
      "PERFORMANCE WARNING:\n",
      "Thresholded incomplete Cholesky decomposition failed due to insufficient positive-definiteness of matrix A with parameters:\n",
      "    discard_threshold = 1.000000e-04\n",
      "    shift = 0.000000e+00\n",
      "Try decreasing discard_threshold or start with a larger shift\n",
      "\n",
      "PERFORMANCE WARNING:\n",
      "Thresholded incomplete Cholesky decomposition failed due to insufficient positive-definiteness of matrix A with parameters:\n",
      "    discard_threshold = 1.000000e-04\n",
      "    shift = 1.000000e-04\n",
      "Try decreasing discard_threshold or start with a larger shift\n",
      "\n",
      "PERFORMANCE WARNING:\n",
      "Thresholded incomplete Cholesky decomposition failed due to insufficient positive-definiteness of matrix A with parameters:\n",
      "    discard_threshold = 1.000000e-04\n",
      "    shift = 1.000000e-03\n",
      "Try decreasing discard_threshold or start with a larger shift\n",
      "\n"
     ]
    },
    {
     "name": "stderr",
     "output_type": "stream",
     "text": [
      "Processing hoanh-thanh-nuoc:  91%|█████████ | 329/361 [06:36<00:38,  1.19s/it]"
     ]
    }
   ],
   "source": [
    "import os\n",
    "import cv2 as cv\n",
    "import numpy as np\n",
    "import matplotlib.pyplot as plt\n",
    "from tqdm import tqdm\n",
    "from rembg import remove\n",
    "\n",
    "data_dir = r'E:\\DS201.Q11\\DS201\\Lab_2\\data\\VinaFood21/train'\n",
    "preprocessed_dir = r'E:\\DS201.Q11\\DS201\\Lab_2\\data\\VinaFood21_Preprocessed/train'\n",
    "os.makedirs(preprocessed_dir, exist_ok=True)\n",
    "\n",
    "def preprocess_image(img, alpha_fore=10, alpha_back=3, erode_size=5, alpha_matting=True):\n",
    "    \"\"\"Tiền xử lý ảnh: Resize, Sharpen, CLAHE, Remove Background, Blur background\"\"\"\n",
    "    \n",
    "    # Resize\n",
    "    img = cv.resize(img, (224, 224))\n",
    "    \n",
    "    # Sharpen ảnh (Unsharp Masking)\n",
    "    blur_for_sharp = cv.GaussianBlur(img, (5,5), 0)\n",
    "    sharp_img = cv.addWeighted(img, 1.5, blur_for_sharp, -0.5, 0)\n",
    "\n",
    "    # CLAHE\n",
    "    lab = cv.cvtColor(sharp_img, cv.COLOR_RGB2LAB)\n",
    "    l, a, b = cv.split(lab)\n",
    "    clahe = cv.createCLAHE(clipLimit=0.5, tileGridSize=(8,8))\n",
    "    l = clahe.apply(l)\n",
    "    lab = cv.merge((l, a, b))\n",
    "    enhanced_img = cv.cvtColor(lab, cv.COLOR_LAB2RGB)\n",
    "\n",
    "    # Remove background\n",
    "    rgba_img = remove(\n",
    "        enhanced_img,\n",
    "        alpha_matting=alpha_matting,\n",
    "        alpha_matting_foreground_threshold=alpha_fore,\n",
    "        alpha_matting_background_threshold=alpha_back,\n",
    "        alpha_matting_erode_size=erode_size\n",
    "    )\n",
    "\n",
    "    if rgba_img.shape[-1] == 4:\n",
    "        rgb_img = rgba_img[..., :3]\n",
    "        alpha = rgba_img[..., 3:] / 255.0\n",
    "        \n",
    "        # Blur nền\n",
    "        blurred_bg = cv.GaussianBlur(rgb_img, (15,15), 0)\n",
    "\n",
    "        # Ghép foreground + blurred background\n",
    "        final_img = (rgb_img * alpha + blurred_bg * (1 - alpha)).astype(np.uint8)\n",
    "    else:\n",
    "        final_img = rgba_img\n",
    "    \n",
    "    return final_img\n",
    "\n",
    "\n",
    "def process_folder(data_folder, save_folder, show_images=False):\n",
    "    os.makedirs(save_folder, exist_ok=True)\n",
    "    \n",
    "    for folder_name in sorted(os.listdir(data_folder)):\n",
    "        folder_path = os.path.join(data_folder, folder_name)\n",
    "        if not os.path.isdir(folder_path):\n",
    "            continue\n",
    "        \n",
    "        target_folder = os.path.join(save_folder, folder_name)\n",
    "        os.makedirs(target_folder, exist_ok=True)\n",
    "        \n",
    "        for filename in tqdm(sorted(os.listdir(folder_path)), desc=f\"Processing {folder_name}\"):\n",
    "            if not filename.lower().endswith(('.jpg', '.png')):\n",
    "                continue\n",
    "            \n",
    "            img_path = os.path.join(folder_path, filename)\n",
    "            save_path = os.path.join(target_folder, os.path.splitext(filename)[0] + '.jpg')\n",
    "            \n",
    "            img = cv.imread(img_path)\n",
    "            rgb_img = cv.cvtColor(img, cv.COLOR_BGR2RGB)\n",
    "            \n",
    "            processed_img = preprocess_image(rgb_img)\n",
    "            \n",
    "            plt.imsave(save_path, processed_img)\n",
    "            \n",
    "            if show_images:\n",
    "                plt.figure(figsize=(12,5))\n",
    "                plt.subplot(1,2,1)\n",
    "                plt.imshow(rgb_img)\n",
    "                plt.title(\"Original\")\n",
    "                plt.axis('off')\n",
    "                \n",
    "                plt.subplot(1,2,2)\n",
    "                plt.imshow(processed_img)\n",
    "                plt.title(\"Foreground sharp + Background blurred\")\n",
    "                plt.axis('off')\n",
    "                \n",
    "                plt.tight_layout()\n",
    "                plt.show()\n",
    "\n",
    "# Chạy tiền xử lý\n",
    "process_folder(data_dir, preprocessed_dir, show_images=False)\n"
   ]
  },
  {
   "cell_type": "code",
   "execution_count": null,
   "id": "a36fe278",
   "metadata": {},
   "outputs": [],
   "source": [
    "# img = cv.imread(path)\n"
   ]
  },
  {
   "cell_type": "code",
   "execution_count": null,
   "id": "35d9cadd",
   "metadata": {},
   "outputs": [],
   "source": [
    "# # OpenCV đọc ảnh theo định dạng BGR (Blue-Green-Red).\n",
    "# # Matplotlib hiển thị ảnh theo định dạng RGB (Red-Green-Blue).\n",
    "# # Cần chuyển đổi định dạng này trước khi hiển thị.\n",
    "# img_rgb = cv.cvtColor(img, cv.COLOR_BGR2RGB)\n",
    "# img_rgb = cv.resize(img_rgb, (224, 224))  # Thay đổi kích thước ảnh nếu cần\n",
    "# # Hiển thị ảnh bằng Matplotlib\n",
    "# plt.imshow(img_rgb)\n",
    "# plt.title(\"Image\") # Thêm tiêu đề (tùy chọn)\n",
    "# plt.axis('off')    # Tắt trục tọa độ (tùy chọn)\n",
    "# plt.show()"
   ]
  }
 ],
 "metadata": {
  "kernelspec": {
   "display_name": "DS201_env",
   "language": "python",
   "name": "python3"
  },
  "language_info": {
   "codemirror_mode": {
    "name": "ipython",
    "version": 3
   },
   "file_extension": ".py",
   "mimetype": "text/x-python",
   "name": "python",
   "nbconvert_exporter": "python",
   "pygments_lexer": "ipython3",
   "version": "3.12.12"
  }
 },
 "nbformat": 4,
 "nbformat_minor": 5
}
